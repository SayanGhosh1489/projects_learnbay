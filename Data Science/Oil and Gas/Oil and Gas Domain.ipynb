{
 "cells": [
  {
   "cell_type": "code",
   "execution_count": 1,
   "id": "db1b09f3-3198-4fb0-9a5f-adf5e18c8c4d",
   "metadata": {},
   "outputs": [
    {
     "data": {
      "text/plain": [
       "'C:\\\\Users\\\\sayan\\\\Desktop\\\\Learnbay\\\\Projects\\\\Oil and Gas'"
      ]
     },
     "execution_count": 1,
     "metadata": {},
     "output_type": "execute_result"
    }
   ],
   "source": [
    "import numpy as np\n",
    "import pandas as pd\n",
    "import matplotlib.pyplot as plt\n",
    "import seaborn as sns\n",
    "import warnings\n",
    "warnings.filterwarnings('ignore')\n",
    "import os\n",
    "os.getcwd()"
   ]
  },
  {
   "cell_type": "code",
   "execution_count": 2,
   "id": "27764892-bafc-458a-b3fb-c1be6dc9ed1f",
   "metadata": {},
   "outputs": [
    {
     "data": {
      "text/html": [
       "<div>\n",
       "<style scoped>\n",
       "    .dataframe tbody tr th:only-of-type {\n",
       "        vertical-align: middle;\n",
       "    }\n",
       "\n",
       "    .dataframe tbody tr th {\n",
       "        vertical-align: top;\n",
       "    }\n",
       "\n",
       "    .dataframe thead th {\n",
       "        text-align: right;\n",
       "    }\n",
       "</style>\n",
       "<table border=\"1\" class=\"dataframe\">\n",
       "  <thead>\n",
       "    <tr style=\"text-align: right;\">\n",
       "      <th></th>\n",
       "      <th>WellID</th>\n",
       "      <th>Depth</th>\n",
       "      <th>YearDrilled</th>\n",
       "      <th>WellType</th>\n",
       "      <th>Geology</th>\n",
       "      <th>Production</th>\n",
       "      <th>Age</th>\n",
       "      <th>ProductionPerDepth</th>\n",
       "    </tr>\n",
       "  </thead>\n",
       "  <tbody>\n",
       "    <tr>\n",
       "      <th>0</th>\n",
       "      <td>1</td>\n",
       "      <td>1360</td>\n",
       "      <td>2009</td>\n",
       "      <td>Offshore</td>\n",
       "      <td>Sandstone</td>\n",
       "      <td>464</td>\n",
       "      <td>15</td>\n",
       "      <td>0.341176</td>\n",
       "    </tr>\n",
       "    <tr>\n",
       "      <th>1</th>\n",
       "      <td>2</td>\n",
       "      <td>4272</td>\n",
       "      <td>2010</td>\n",
       "      <td>Offshore</td>\n",
       "      <td>Sandstone</td>\n",
       "      <td>339</td>\n",
       "      <td>14</td>\n",
       "      <td>0.079354</td>\n",
       "    </tr>\n",
       "    <tr>\n",
       "      <th>2</th>\n",
       "      <td>3</td>\n",
       "      <td>3592</td>\n",
       "      <td>1976</td>\n",
       "      <td>Onshore</td>\n",
       "      <td>Shale</td>\n",
       "      <td>387</td>\n",
       "      <td>48</td>\n",
       "      <td>0.107739</td>\n",
       "    </tr>\n",
       "    <tr>\n",
       "      <th>3</th>\n",
       "      <td>4</td>\n",
       "      <td>966</td>\n",
       "      <td>1973</td>\n",
       "      <td>Onshore</td>\n",
       "      <td>Shale</td>\n",
       "      <td>297</td>\n",
       "      <td>51</td>\n",
       "      <td>0.307453</td>\n",
       "    </tr>\n",
       "    <tr>\n",
       "      <th>4</th>\n",
       "      <td>5</td>\n",
       "      <td>4926</td>\n",
       "      <td>1968</td>\n",
       "      <td>Offshore</td>\n",
       "      <td>Sandstone</td>\n",
       "      <td>403</td>\n",
       "      <td>56</td>\n",
       "      <td>0.081811</td>\n",
       "    </tr>\n",
       "  </tbody>\n",
       "</table>\n",
       "</div>"
      ],
      "text/plain": [
       "   WellID  Depth  YearDrilled  WellType    Geology  Production  Age  \\\n",
       "0       1   1360         2009  Offshore  Sandstone         464   15   \n",
       "1       2   4272         2010  Offshore  Sandstone         339   14   \n",
       "2       3   3592         1976   Onshore      Shale         387   48   \n",
       "3       4    966         1973   Onshore      Shale         297   51   \n",
       "4       5   4926         1968  Offshore  Sandstone         403   56   \n",
       "\n",
       "   ProductionPerDepth  \n",
       "0            0.341176  \n",
       "1            0.079354  \n",
       "2            0.107739  \n",
       "3            0.307453  \n",
       "4            0.081811  "
      ]
     },
     "execution_count": 2,
     "metadata": {},
     "output_type": "execute_result"
    }
   ],
   "source": [
    "# Problem statement : The goal is to predict the daily Production of oil wells.\n",
    "# Data Collection : no need to worry, but if you want, pls visit data.gov website, search on kaggle/UCI machine learning\n",
    "# data preprocessing\n",
    "data = pd.read_csv('Oil_Well_dataset.csv')\n",
    "data.head()"
   ]
  },
  {
   "cell_type": "code",
   "execution_count": 3,
   "id": "e0d6c683-9ef7-4ced-ab9d-0e59a22511cb",
   "metadata": {},
   "outputs": [
    {
     "name": "stdout",
     "output_type": "stream",
     "text": [
      "<class 'pandas.core.frame.DataFrame'>\n",
      "RangeIndex: 1000 entries, 0 to 999\n",
      "Data columns (total 8 columns):\n",
      " #   Column              Non-Null Count  Dtype  \n",
      "---  ------              --------------  -----  \n",
      " 0   WellID              1000 non-null   int64  \n",
      " 1   Depth               1000 non-null   int64  \n",
      " 2   YearDrilled         1000 non-null   int64  \n",
      " 3   WellType            1000 non-null   object \n",
      " 4   Geology             1000 non-null   object \n",
      " 5   Production          1000 non-null   int64  \n",
      " 6   Age                 1000 non-null   int64  \n",
      " 7   ProductionPerDepth  1000 non-null   float64\n",
      "dtypes: float64(1), int64(5), object(2)\n",
      "memory usage: 62.6+ KB\n"
     ]
    }
   ],
   "source": [
    "data.info()"
   ]
  },
  {
   "cell_type": "code",
   "execution_count": 4,
   "id": "7bd02846-d492-4950-9664-c915d76417d4",
   "metadata": {},
   "outputs": [
    {
     "data": {
      "text/plain": [
       "WellID                0\n",
       "Depth                 0\n",
       "YearDrilled           0\n",
       "WellType              0\n",
       "Geology               0\n",
       "Production            0\n",
       "Age                   0\n",
       "ProductionPerDepth    0\n",
       "dtype: int64"
      ]
     },
     "execution_count": 4,
     "metadata": {},
     "output_type": "execute_result"
    }
   ],
   "source": [
    "data.isnull().sum()"
   ]
  },
  {
   "cell_type": "code",
   "execution_count": 5,
   "id": "620ac1c5-75ad-4f80-af71-e6c35d83d828",
   "metadata": {},
   "outputs": [
    {
     "data": {
      "text/plain": [
       "Offshore    519\n",
       "Onshore     481\n",
       "Name: WellType, dtype: int64"
      ]
     },
     "execution_count": 5,
     "metadata": {},
     "output_type": "execute_result"
    }
   ],
   "source": [
    "# Encoding part\n",
    "# Convert categorical features to numerical\n",
    "data['WellType'].value_counts()"
   ]
  },
  {
   "cell_type": "code",
   "execution_count": 6,
   "id": "d7682988-8dbb-4abe-8308-f46a33cb5dd9",
   "metadata": {},
   "outputs": [
    {
     "data": {
      "text/plain": [
       "Sandstone    341\n",
       "Shale        341\n",
       "Limestone    318\n",
       "Name: Geology, dtype: int64"
      ]
     },
     "execution_count": 6,
     "metadata": {},
     "output_type": "execute_result"
    }
   ],
   "source": [
    "data['Geology'].value_counts()"
   ]
  },
  {
   "cell_type": "code",
   "execution_count": 7,
   "id": "f5def254-5a96-4e2f-ac2d-aac279db0d06",
   "metadata": {},
   "outputs": [
    {
     "data": {
      "text/html": [
       "<div>\n",
       "<style scoped>\n",
       "    .dataframe tbody tr th:only-of-type {\n",
       "        vertical-align: middle;\n",
       "    }\n",
       "\n",
       "    .dataframe tbody tr th {\n",
       "        vertical-align: top;\n",
       "    }\n",
       "\n",
       "    .dataframe thead th {\n",
       "        text-align: right;\n",
       "    }\n",
       "</style>\n",
       "<table border=\"1\" class=\"dataframe\">\n",
       "  <thead>\n",
       "    <tr style=\"text-align: right;\">\n",
       "      <th></th>\n",
       "      <th>WellID</th>\n",
       "      <th>Depth</th>\n",
       "      <th>YearDrilled</th>\n",
       "      <th>Production</th>\n",
       "      <th>Age</th>\n",
       "      <th>ProductionPerDepth</th>\n",
       "      <th>WellType_Onshore</th>\n",
       "      <th>Geology_Sandstone</th>\n",
       "      <th>Geology_Shale</th>\n",
       "    </tr>\n",
       "  </thead>\n",
       "  <tbody>\n",
       "    <tr>\n",
       "      <th>0</th>\n",
       "      <td>1</td>\n",
       "      <td>1360</td>\n",
       "      <td>2009</td>\n",
       "      <td>464</td>\n",
       "      <td>15</td>\n",
       "      <td>0.341176</td>\n",
       "      <td>0</td>\n",
       "      <td>1</td>\n",
       "      <td>0</td>\n",
       "    </tr>\n",
       "    <tr>\n",
       "      <th>1</th>\n",
       "      <td>2</td>\n",
       "      <td>4272</td>\n",
       "      <td>2010</td>\n",
       "      <td>339</td>\n",
       "      <td>14</td>\n",
       "      <td>0.079354</td>\n",
       "      <td>0</td>\n",
       "      <td>1</td>\n",
       "      <td>0</td>\n",
       "    </tr>\n",
       "    <tr>\n",
       "      <th>2</th>\n",
       "      <td>3</td>\n",
       "      <td>3592</td>\n",
       "      <td>1976</td>\n",
       "      <td>387</td>\n",
       "      <td>48</td>\n",
       "      <td>0.107739</td>\n",
       "      <td>1</td>\n",
       "      <td>0</td>\n",
       "      <td>1</td>\n",
       "    </tr>\n",
       "    <tr>\n",
       "      <th>3</th>\n",
       "      <td>4</td>\n",
       "      <td>966</td>\n",
       "      <td>1973</td>\n",
       "      <td>297</td>\n",
       "      <td>51</td>\n",
       "      <td>0.307453</td>\n",
       "      <td>1</td>\n",
       "      <td>0</td>\n",
       "      <td>1</td>\n",
       "    </tr>\n",
       "    <tr>\n",
       "      <th>4</th>\n",
       "      <td>5</td>\n",
       "      <td>4926</td>\n",
       "      <td>1968</td>\n",
       "      <td>403</td>\n",
       "      <td>56</td>\n",
       "      <td>0.081811</td>\n",
       "      <td>0</td>\n",
       "      <td>1</td>\n",
       "      <td>0</td>\n",
       "    </tr>\n",
       "  </tbody>\n",
       "</table>\n",
       "</div>"
      ],
      "text/plain": [
       "   WellID  Depth  YearDrilled  Production  Age  ProductionPerDepth  \\\n",
       "0       1   1360         2009         464   15            0.341176   \n",
       "1       2   4272         2010         339   14            0.079354   \n",
       "2       3   3592         1976         387   48            0.107739   \n",
       "3       4    966         1973         297   51            0.307453   \n",
       "4       5   4926         1968         403   56            0.081811   \n",
       "\n",
       "   WellType_Onshore  Geology_Sandstone  Geology_Shale  \n",
       "0                 0                  1              0  \n",
       "1                 0                  1              0  \n",
       "2                 1                  0              1  \n",
       "3                 1                  0              1  \n",
       "4                 0                  1              0  "
      ]
     },
     "execution_count": 7,
     "metadata": {},
     "output_type": "execute_result"
    }
   ],
   "source": [
    "data = pd.get_dummies(data, columns=['WellType','Geology'], drop_first=True)\n",
    "data.head()"
   ]
  },
  {
   "cell_type": "code",
   "execution_count": 8,
   "id": "36a3a3f4-b6db-49a9-bf69-255db6c6f4b5",
   "metadata": {},
   "outputs": [
    {
     "data": {
      "text/plain": [
       "1000"
      ]
     },
     "execution_count": 8,
     "metadata": {},
     "output_type": "execute_result"
    }
   ],
   "source": [
    "data['WellID'].nunique()"
   ]
  },
  {
   "cell_type": "code",
   "execution_count": 9,
   "id": "0e42f7c0-4542-4af7-bb0b-2b0da75f51ed",
   "metadata": {},
   "outputs": [
    {
     "data": {
      "text/html": [
       "<div>\n",
       "<style scoped>\n",
       "    .dataframe tbody tr th:only-of-type {\n",
       "        vertical-align: middle;\n",
       "    }\n",
       "\n",
       "    .dataframe tbody tr th {\n",
       "        vertical-align: top;\n",
       "    }\n",
       "\n",
       "    .dataframe thead th {\n",
       "        text-align: right;\n",
       "    }\n",
       "</style>\n",
       "<table border=\"1\" class=\"dataframe\">\n",
       "  <thead>\n",
       "    <tr style=\"text-align: right;\">\n",
       "      <th></th>\n",
       "      <th>WellID</th>\n",
       "      <th>Depth</th>\n",
       "      <th>YearDrilled</th>\n",
       "      <th>Production</th>\n",
       "      <th>Age</th>\n",
       "      <th>ProductionPerDepth</th>\n",
       "      <th>WellType_Onshore</th>\n",
       "      <th>Geology_Sandstone</th>\n",
       "      <th>Geology_Shale</th>\n",
       "    </tr>\n",
       "  </thead>\n",
       "  <tbody>\n",
       "    <tr>\n",
       "      <th>count</th>\n",
       "      <td>1000.000000</td>\n",
       "      <td>1000.000000</td>\n",
       "      <td>1000.000000</td>\n",
       "      <td>1000.000000</td>\n",
       "      <td>1000.000000</td>\n",
       "      <td>1000.000000</td>\n",
       "      <td>1000.000000</td>\n",
       "      <td>1000.000000</td>\n",
       "      <td>1000.000000</td>\n",
       "    </tr>\n",
       "    <tr>\n",
       "      <th>mean</th>\n",
       "      <td>500.500000</td>\n",
       "      <td>2815.422000</td>\n",
       "      <td>1991.804000</td>\n",
       "      <td>271.519000</td>\n",
       "      <td>32.196000</td>\n",
       "      <td>0.133407</td>\n",
       "      <td>0.481000</td>\n",
       "      <td>0.341000</td>\n",
       "      <td>0.341000</td>\n",
       "    </tr>\n",
       "    <tr>\n",
       "      <th>std</th>\n",
       "      <td>288.819436</td>\n",
       "      <td>1255.514921</td>\n",
       "      <td>18.185772</td>\n",
       "      <td>130.117386</td>\n",
       "      <td>18.185772</td>\n",
       "      <td>0.124346</td>\n",
       "      <td>0.499889</td>\n",
       "      <td>0.474283</td>\n",
       "      <td>0.474283</td>\n",
       "    </tr>\n",
       "    <tr>\n",
       "      <th>min</th>\n",
       "      <td>1.000000</td>\n",
       "      <td>503.000000</td>\n",
       "      <td>1960.000000</td>\n",
       "      <td>50.000000</td>\n",
       "      <td>1.000000</td>\n",
       "      <td>0.010781</td>\n",
       "      <td>0.000000</td>\n",
       "      <td>0.000000</td>\n",
       "      <td>0.000000</td>\n",
       "    </tr>\n",
       "    <tr>\n",
       "      <th>25%</th>\n",
       "      <td>250.750000</td>\n",
       "      <td>1749.500000</td>\n",
       "      <td>1976.000000</td>\n",
       "      <td>155.750000</td>\n",
       "      <td>16.750000</td>\n",
       "      <td>0.053152</td>\n",
       "      <td>0.000000</td>\n",
       "      <td>0.000000</td>\n",
       "      <td>0.000000</td>\n",
       "    </tr>\n",
       "    <tr>\n",
       "      <th>50%</th>\n",
       "      <td>500.500000</td>\n",
       "      <td>2862.500000</td>\n",
       "      <td>1992.000000</td>\n",
       "      <td>266.000000</td>\n",
       "      <td>32.000000</td>\n",
       "      <td>0.096448</td>\n",
       "      <td>0.000000</td>\n",
       "      <td>0.000000</td>\n",
       "      <td>0.000000</td>\n",
       "    </tr>\n",
       "    <tr>\n",
       "      <th>75%</th>\n",
       "      <td>750.250000</td>\n",
       "      <td>3849.500000</td>\n",
       "      <td>2007.250000</td>\n",
       "      <td>387.000000</td>\n",
       "      <td>48.000000</td>\n",
       "      <td>0.158240</td>\n",
       "      <td>1.000000</td>\n",
       "      <td>1.000000</td>\n",
       "      <td>1.000000</td>\n",
       "    </tr>\n",
       "    <tr>\n",
       "      <th>max</th>\n",
       "      <td>1000.000000</td>\n",
       "      <td>4999.000000</td>\n",
       "      <td>2023.000000</td>\n",
       "      <td>499.000000</td>\n",
       "      <td>64.000000</td>\n",
       "      <td>0.851064</td>\n",
       "      <td>1.000000</td>\n",
       "      <td>1.000000</td>\n",
       "      <td>1.000000</td>\n",
       "    </tr>\n",
       "  </tbody>\n",
       "</table>\n",
       "</div>"
      ],
      "text/plain": [
       "            WellID        Depth  YearDrilled   Production          Age  \\\n",
       "count  1000.000000  1000.000000  1000.000000  1000.000000  1000.000000   \n",
       "mean    500.500000  2815.422000  1991.804000   271.519000    32.196000   \n",
       "std     288.819436  1255.514921    18.185772   130.117386    18.185772   \n",
       "min       1.000000   503.000000  1960.000000    50.000000     1.000000   \n",
       "25%     250.750000  1749.500000  1976.000000   155.750000    16.750000   \n",
       "50%     500.500000  2862.500000  1992.000000   266.000000    32.000000   \n",
       "75%     750.250000  3849.500000  2007.250000   387.000000    48.000000   \n",
       "max    1000.000000  4999.000000  2023.000000   499.000000    64.000000   \n",
       "\n",
       "       ProductionPerDepth  WellType_Onshore  Geology_Sandstone  Geology_Shale  \n",
       "count         1000.000000       1000.000000        1000.000000    1000.000000  \n",
       "mean             0.133407          0.481000           0.341000       0.341000  \n",
       "std              0.124346          0.499889           0.474283       0.474283  \n",
       "min              0.010781          0.000000           0.000000       0.000000  \n",
       "25%              0.053152          0.000000           0.000000       0.000000  \n",
       "50%              0.096448          0.000000           0.000000       0.000000  \n",
       "75%              0.158240          1.000000           1.000000       1.000000  \n",
       "max              0.851064          1.000000           1.000000       1.000000  "
      ]
     },
     "execution_count": 9,
     "metadata": {},
     "output_type": "execute_result"
    }
   ],
   "source": [
    "data.describe()"
   ]
  },
  {
   "cell_type": "code",
   "execution_count": 10,
   "id": "ec64aa3b-f4f1-4864-9993-c7d27632e18f",
   "metadata": {},
   "outputs": [
    {
     "data": {
      "text/html": [
       "<div>\n",
       "<style scoped>\n",
       "    .dataframe tbody tr th:only-of-type {\n",
       "        vertical-align: middle;\n",
       "    }\n",
       "\n",
       "    .dataframe tbody tr th {\n",
       "        vertical-align: top;\n",
       "    }\n",
       "\n",
       "    .dataframe thead th {\n",
       "        text-align: right;\n",
       "    }\n",
       "</style>\n",
       "<table border=\"1\" class=\"dataframe\">\n",
       "  <thead>\n",
       "    <tr style=\"text-align: right;\">\n",
       "      <th></th>\n",
       "      <th>WellID</th>\n",
       "      <th>Depth</th>\n",
       "      <th>YearDrilled</th>\n",
       "      <th>Age</th>\n",
       "      <th>ProductionPerDepth</th>\n",
       "      <th>WellType_Onshore</th>\n",
       "      <th>Geology_Sandstone</th>\n",
       "      <th>Geology_Shale</th>\n",
       "    </tr>\n",
       "  </thead>\n",
       "  <tbody>\n",
       "    <tr>\n",
       "      <th>0</th>\n",
       "      <td>1</td>\n",
       "      <td>1360</td>\n",
       "      <td>2009</td>\n",
       "      <td>15</td>\n",
       "      <td>0.341176</td>\n",
       "      <td>0</td>\n",
       "      <td>1</td>\n",
       "      <td>0</td>\n",
       "    </tr>\n",
       "    <tr>\n",
       "      <th>1</th>\n",
       "      <td>2</td>\n",
       "      <td>4272</td>\n",
       "      <td>2010</td>\n",
       "      <td>14</td>\n",
       "      <td>0.079354</td>\n",
       "      <td>0</td>\n",
       "      <td>1</td>\n",
       "      <td>0</td>\n",
       "    </tr>\n",
       "    <tr>\n",
       "      <th>2</th>\n",
       "      <td>3</td>\n",
       "      <td>3592</td>\n",
       "      <td>1976</td>\n",
       "      <td>48</td>\n",
       "      <td>0.107739</td>\n",
       "      <td>1</td>\n",
       "      <td>0</td>\n",
       "      <td>1</td>\n",
       "    </tr>\n",
       "    <tr>\n",
       "      <th>3</th>\n",
       "      <td>4</td>\n",
       "      <td>966</td>\n",
       "      <td>1973</td>\n",
       "      <td>51</td>\n",
       "      <td>0.307453</td>\n",
       "      <td>1</td>\n",
       "      <td>0</td>\n",
       "      <td>1</td>\n",
       "    </tr>\n",
       "    <tr>\n",
       "      <th>4</th>\n",
       "      <td>5</td>\n",
       "      <td>4926</td>\n",
       "      <td>1968</td>\n",
       "      <td>56</td>\n",
       "      <td>0.081811</td>\n",
       "      <td>0</td>\n",
       "      <td>1</td>\n",
       "      <td>0</td>\n",
       "    </tr>\n",
       "  </tbody>\n",
       "</table>\n",
       "</div>"
      ],
      "text/plain": [
       "   WellID  Depth  YearDrilled  Age  ProductionPerDepth  WellType_Onshore  \\\n",
       "0       1   1360         2009   15            0.341176                 0   \n",
       "1       2   4272         2010   14            0.079354                 0   \n",
       "2       3   3592         1976   48            0.107739                 1   \n",
       "3       4    966         1973   51            0.307453                 1   \n",
       "4       5   4926         1968   56            0.081811                 0   \n",
       "\n",
       "   Geology_Sandstone  Geology_Shale  \n",
       "0                  1              0  \n",
       "1                  1              0  \n",
       "2                  0              1  \n",
       "3                  0              1  \n",
       "4                  1              0  "
      ]
     },
     "execution_count": 10,
     "metadata": {},
     "output_type": "execute_result"
    }
   ],
   "source": [
    "x = data.drop('Production', axis=1)\n",
    "y = data['Production']\n",
    "x.head()"
   ]
  },
  {
   "cell_type": "code",
   "execution_count": 11,
   "id": "1733f5d8-1c55-45c9-9706-540468cc2e14",
   "metadata": {},
   "outputs": [],
   "source": [
    "x['WellType_Onshore'] = np.where(x['WellType_Onshore']==False, 0,1)\n",
    "x['Geology_Sandstone'] =  np.where(x['Geology_Sandstone']==False, 0,1)\n",
    "x['Geology_Shale'] =  np.where(x['Geology_Shale']==False, 0,1)"
   ]
  },
  {
   "cell_type": "code",
   "execution_count": 12,
   "id": "dbf842e7-b945-4564-a14b-01e5f486e572",
   "metadata": {},
   "outputs": [
    {
     "data": {
      "text/html": [
       "<div>\n",
       "<style scoped>\n",
       "    .dataframe tbody tr th:only-of-type {\n",
       "        vertical-align: middle;\n",
       "    }\n",
       "\n",
       "    .dataframe tbody tr th {\n",
       "        vertical-align: top;\n",
       "    }\n",
       "\n",
       "    .dataframe thead th {\n",
       "        text-align: right;\n",
       "    }\n",
       "</style>\n",
       "<table border=\"1\" class=\"dataframe\">\n",
       "  <thead>\n",
       "    <tr style=\"text-align: right;\">\n",
       "      <th></th>\n",
       "      <th>WellID</th>\n",
       "      <th>Depth</th>\n",
       "      <th>YearDrilled</th>\n",
       "      <th>Age</th>\n",
       "      <th>ProductionPerDepth</th>\n",
       "      <th>WellType_Onshore</th>\n",
       "      <th>Geology_Sandstone</th>\n",
       "      <th>Geology_Shale</th>\n",
       "    </tr>\n",
       "  </thead>\n",
       "  <tbody>\n",
       "    <tr>\n",
       "      <th>0</th>\n",
       "      <td>1</td>\n",
       "      <td>1360</td>\n",
       "      <td>2009</td>\n",
       "      <td>15</td>\n",
       "      <td>0.341176</td>\n",
       "      <td>0</td>\n",
       "      <td>1</td>\n",
       "      <td>0</td>\n",
       "    </tr>\n",
       "    <tr>\n",
       "      <th>1</th>\n",
       "      <td>2</td>\n",
       "      <td>4272</td>\n",
       "      <td>2010</td>\n",
       "      <td>14</td>\n",
       "      <td>0.079354</td>\n",
       "      <td>0</td>\n",
       "      <td>1</td>\n",
       "      <td>0</td>\n",
       "    </tr>\n",
       "    <tr>\n",
       "      <th>2</th>\n",
       "      <td>3</td>\n",
       "      <td>3592</td>\n",
       "      <td>1976</td>\n",
       "      <td>48</td>\n",
       "      <td>0.107739</td>\n",
       "      <td>1</td>\n",
       "      <td>0</td>\n",
       "      <td>1</td>\n",
       "    </tr>\n",
       "    <tr>\n",
       "      <th>3</th>\n",
       "      <td>4</td>\n",
       "      <td>966</td>\n",
       "      <td>1973</td>\n",
       "      <td>51</td>\n",
       "      <td>0.307453</td>\n",
       "      <td>1</td>\n",
       "      <td>0</td>\n",
       "      <td>1</td>\n",
       "    </tr>\n",
       "    <tr>\n",
       "      <th>4</th>\n",
       "      <td>5</td>\n",
       "      <td>4926</td>\n",
       "      <td>1968</td>\n",
       "      <td>56</td>\n",
       "      <td>0.081811</td>\n",
       "      <td>0</td>\n",
       "      <td>1</td>\n",
       "      <td>0</td>\n",
       "    </tr>\n",
       "  </tbody>\n",
       "</table>\n",
       "</div>"
      ],
      "text/plain": [
       "   WellID  Depth  YearDrilled  Age  ProductionPerDepth  WellType_Onshore  \\\n",
       "0       1   1360         2009   15            0.341176                 0   \n",
       "1       2   4272         2010   14            0.079354                 0   \n",
       "2       3   3592         1976   48            0.107739                 1   \n",
       "3       4    966         1973   51            0.307453                 1   \n",
       "4       5   4926         1968   56            0.081811                 0   \n",
       "\n",
       "   Geology_Sandstone  Geology_Shale  \n",
       "0                  1              0  \n",
       "1                  1              0  \n",
       "2                  0              1  \n",
       "3                  0              1  \n",
       "4                  1              0  "
      ]
     },
     "execution_count": 12,
     "metadata": {},
     "output_type": "execute_result"
    }
   ],
   "source": [
    "x.head()"
   ]
  },
  {
   "cell_type": "code",
   "execution_count": 13,
   "id": "c05bd89c-9a1d-40f9-8ad0-1345578e548a",
   "metadata": {},
   "outputs": [
    {
     "data": {
      "text/html": [
       "<div>\n",
       "<style scoped>\n",
       "    .dataframe tbody tr th:only-of-type {\n",
       "        vertical-align: middle;\n",
       "    }\n",
       "\n",
       "    .dataframe tbody tr th {\n",
       "        vertical-align: top;\n",
       "    }\n",
       "\n",
       "    .dataframe thead th {\n",
       "        text-align: right;\n",
       "    }\n",
       "</style>\n",
       "<table border=\"1\" class=\"dataframe\">\n",
       "  <thead>\n",
       "    <tr style=\"text-align: right;\">\n",
       "      <th></th>\n",
       "      <th>Depth</th>\n",
       "      <th>Age</th>\n",
       "      <th>ProductionPerDepth</th>\n",
       "      <th>WellType_Onshore</th>\n",
       "      <th>Geology_Sandstone</th>\n",
       "      <th>Geology_Shale</th>\n",
       "    </tr>\n",
       "  </thead>\n",
       "  <tbody>\n",
       "    <tr>\n",
       "      <th>0</th>\n",
       "      <td>1360</td>\n",
       "      <td>15</td>\n",
       "      <td>0.341176</td>\n",
       "      <td>0</td>\n",
       "      <td>1</td>\n",
       "      <td>0</td>\n",
       "    </tr>\n",
       "    <tr>\n",
       "      <th>1</th>\n",
       "      <td>4272</td>\n",
       "      <td>14</td>\n",
       "      <td>0.079354</td>\n",
       "      <td>0</td>\n",
       "      <td>1</td>\n",
       "      <td>0</td>\n",
       "    </tr>\n",
       "    <tr>\n",
       "      <th>2</th>\n",
       "      <td>3592</td>\n",
       "      <td>48</td>\n",
       "      <td>0.107739</td>\n",
       "      <td>1</td>\n",
       "      <td>0</td>\n",
       "      <td>1</td>\n",
       "    </tr>\n",
       "    <tr>\n",
       "      <th>3</th>\n",
       "      <td>966</td>\n",
       "      <td>51</td>\n",
       "      <td>0.307453</td>\n",
       "      <td>1</td>\n",
       "      <td>0</td>\n",
       "      <td>1</td>\n",
       "    </tr>\n",
       "    <tr>\n",
       "      <th>4</th>\n",
       "      <td>4926</td>\n",
       "      <td>56</td>\n",
       "      <td>0.081811</td>\n",
       "      <td>0</td>\n",
       "      <td>1</td>\n",
       "      <td>0</td>\n",
       "    </tr>\n",
       "  </tbody>\n",
       "</table>\n",
       "</div>"
      ],
      "text/plain": [
       "   Depth  Age  ProductionPerDepth  WellType_Onshore  Geology_Sandstone  \\\n",
       "0   1360   15            0.341176                 0                  1   \n",
       "1   4272   14            0.079354                 0                  1   \n",
       "2   3592   48            0.107739                 1                  0   \n",
       "3    966   51            0.307453                 1                  0   \n",
       "4   4926   56            0.081811                 0                  1   \n",
       "\n",
       "   Geology_Shale  \n",
       "0              0  \n",
       "1              0  \n",
       "2              1  \n",
       "3              1  \n",
       "4              0  "
      ]
     },
     "execution_count": 13,
     "metadata": {},
     "output_type": "execute_result"
    }
   ],
   "source": [
    "x = x.drop(['WellID','YearDrilled'], axis=1)\n",
    "x.head()"
   ]
  },
  {
   "cell_type": "code",
   "execution_count": 51,
   "id": "cfb188ca-e86b-4cfe-8df8-94072913380e",
   "metadata": {},
   "outputs": [],
   "source": [
    "# split the data into training and test\n",
    "from sklearn.model_selection import train_test_split\n",
    "x_train1, x_test1, y_train1, y_test1 = train_test_split(x,y, test_size=0.2, random_state=42)"
   ]
  },
  {
   "cell_type": "code",
   "execution_count": 52,
   "id": "4fb24918",
   "metadata": {},
   "outputs": [],
   "source": [
    "# Feature Scaling\n",
    "from sklearn.preprocessing import StandardScaler\n",
    "scale = StandardScaler()\n",
    "x_train_sc = scale.fit_transform(x_train1)\n",
    "x_test_sc = scale.transform(x_test1)"
   ]
  },
  {
   "cell_type": "code",
   "execution_count": 16,
   "id": "558444a6-956c-446c-adae-46acf221b680",
   "metadata": {},
   "outputs": [
    {
     "data": {
      "text/plain": [
       "(800, 6)"
      ]
     },
     "execution_count": 16,
     "metadata": {},
     "output_type": "execute_result"
    }
   ],
   "source": [
    "pd.DataFrame(x_train_sc).shape"
   ]
  },
  {
   "cell_type": "code",
   "execution_count": 17,
   "id": "2513f5b5-40e6-4557-9aad-9971f0d3b9fc",
   "metadata": {},
   "outputs": [
    {
     "data": {
      "text/html": [
       "<div>\n",
       "<style scoped>\n",
       "    .dataframe tbody tr th:only-of-type {\n",
       "        vertical-align: middle;\n",
       "    }\n",
       "\n",
       "    .dataframe tbody tr th {\n",
       "        vertical-align: top;\n",
       "    }\n",
       "\n",
       "    .dataframe thead th {\n",
       "        text-align: right;\n",
       "    }\n",
       "</style>\n",
       "<table border=\"1\" class=\"dataframe\">\n",
       "  <thead>\n",
       "    <tr style=\"text-align: right;\">\n",
       "      <th></th>\n",
       "      <th>variance_inflation_factor</th>\n",
       "      <th>features</th>\n",
       "    </tr>\n",
       "  </thead>\n",
       "  <tbody>\n",
       "    <tr>\n",
       "      <th>0</th>\n",
       "      <td>1.792967</td>\n",
       "      <td>Depth</td>\n",
       "    </tr>\n",
       "    <tr>\n",
       "      <th>1</th>\n",
       "      <td>1.005990</td>\n",
       "      <td>Age</td>\n",
       "    </tr>\n",
       "    <tr>\n",
       "      <th>2</th>\n",
       "      <td>1.791684</td>\n",
       "      <td>ProductionPerDepth</td>\n",
       "    </tr>\n",
       "    <tr>\n",
       "      <th>3</th>\n",
       "      <td>1.001374</td>\n",
       "      <td>WellType_Onshore</td>\n",
       "    </tr>\n",
       "    <tr>\n",
       "      <th>4</th>\n",
       "      <td>1.368329</td>\n",
       "      <td>Geology_Sandstone</td>\n",
       "    </tr>\n",
       "    <tr>\n",
       "      <th>5</th>\n",
       "      <td>1.370647</td>\n",
       "      <td>Geology_Shale</td>\n",
       "    </tr>\n",
       "  </tbody>\n",
       "</table>\n",
       "</div>"
      ],
      "text/plain": [
       "   variance_inflation_factor            features\n",
       "0                   1.792967               Depth\n",
       "1                   1.005990                 Age\n",
       "2                   1.791684  ProductionPerDepth\n",
       "3                   1.001374    WellType_Onshore\n",
       "4                   1.368329   Geology_Sandstone\n",
       "5                   1.370647       Geology_Shale"
      ]
     },
     "execution_count": 17,
     "metadata": {},
     "output_type": "execute_result"
    }
   ],
   "source": [
    "# Variance Inflation Factor (VIF)\n",
    "from statsmodels.stats.outliers_influence import variance_inflation_factor\n",
    "variable = x_train_sc\n",
    "vif = pd.DataFrame()\n",
    "vif['variance_inflation_factor'] = [variance_inflation_factor(variable, i) for i in range(variable.shape[1])]\n",
    "vif['features'] = x.columns\n",
    "vif"
   ]
  },
  {
   "cell_type": "code",
   "execution_count": 18,
   "id": "7d652b00-c0d4-4fcd-9c0a-9f1caa344116",
   "metadata": {},
   "outputs": [],
   "source": [
    "#data['Age1'] = 2024 - data['YearDrilled']\n",
    "#data"
   ]
  },
  {
   "cell_type": "code",
   "execution_count": 19,
   "id": "9c8bf156-e8f3-48a9-baa2-2a97bb1fc351",
   "metadata": {},
   "outputs": [],
   "source": [
    "data['ProductionPerDepth1'] = data['Production']/data['Depth']"
   ]
  },
  {
   "cell_type": "code",
   "execution_count": 20,
   "id": "b5f0dc8e-81d8-4cff-ba61-44d2609ad2f5",
   "metadata": {},
   "outputs": [
    {
     "data": {
      "text/html": [
       "<div>\n",
       "<style scoped>\n",
       "    .dataframe tbody tr th:only-of-type {\n",
       "        vertical-align: middle;\n",
       "    }\n",
       "\n",
       "    .dataframe tbody tr th {\n",
       "        vertical-align: top;\n",
       "    }\n",
       "\n",
       "    .dataframe thead th {\n",
       "        text-align: right;\n",
       "    }\n",
       "</style>\n",
       "<table border=\"1\" class=\"dataframe\">\n",
       "  <thead>\n",
       "    <tr style=\"text-align: right;\">\n",
       "      <th></th>\n",
       "      <th>WellID</th>\n",
       "      <th>Depth</th>\n",
       "      <th>YearDrilled</th>\n",
       "      <th>Production</th>\n",
       "      <th>Age</th>\n",
       "      <th>ProductionPerDepth</th>\n",
       "      <th>WellType_Onshore</th>\n",
       "      <th>Geology_Sandstone</th>\n",
       "      <th>Geology_Shale</th>\n",
       "      <th>ProductionPerDepth1</th>\n",
       "    </tr>\n",
       "  </thead>\n",
       "  <tbody>\n",
       "    <tr>\n",
       "      <th>0</th>\n",
       "      <td>1</td>\n",
       "      <td>1360</td>\n",
       "      <td>2009</td>\n",
       "      <td>464</td>\n",
       "      <td>15</td>\n",
       "      <td>0.341176</td>\n",
       "      <td>0</td>\n",
       "      <td>1</td>\n",
       "      <td>0</td>\n",
       "      <td>0.341176</td>\n",
       "    </tr>\n",
       "    <tr>\n",
       "      <th>1</th>\n",
       "      <td>2</td>\n",
       "      <td>4272</td>\n",
       "      <td>2010</td>\n",
       "      <td>339</td>\n",
       "      <td>14</td>\n",
       "      <td>0.079354</td>\n",
       "      <td>0</td>\n",
       "      <td>1</td>\n",
       "      <td>0</td>\n",
       "      <td>0.079354</td>\n",
       "    </tr>\n",
       "    <tr>\n",
       "      <th>2</th>\n",
       "      <td>3</td>\n",
       "      <td>3592</td>\n",
       "      <td>1976</td>\n",
       "      <td>387</td>\n",
       "      <td>48</td>\n",
       "      <td>0.107739</td>\n",
       "      <td>1</td>\n",
       "      <td>0</td>\n",
       "      <td>1</td>\n",
       "      <td>0.107739</td>\n",
       "    </tr>\n",
       "    <tr>\n",
       "      <th>3</th>\n",
       "      <td>4</td>\n",
       "      <td>966</td>\n",
       "      <td>1973</td>\n",
       "      <td>297</td>\n",
       "      <td>51</td>\n",
       "      <td>0.307453</td>\n",
       "      <td>1</td>\n",
       "      <td>0</td>\n",
       "      <td>1</td>\n",
       "      <td>0.307453</td>\n",
       "    </tr>\n",
       "    <tr>\n",
       "      <th>4</th>\n",
       "      <td>5</td>\n",
       "      <td>4926</td>\n",
       "      <td>1968</td>\n",
       "      <td>403</td>\n",
       "      <td>56</td>\n",
       "      <td>0.081811</td>\n",
       "      <td>0</td>\n",
       "      <td>1</td>\n",
       "      <td>0</td>\n",
       "      <td>0.081811</td>\n",
       "    </tr>\n",
       "  </tbody>\n",
       "</table>\n",
       "</div>"
      ],
      "text/plain": [
       "   WellID  Depth  YearDrilled  Production  Age  ProductionPerDepth  \\\n",
       "0       1   1360         2009         464   15            0.341176   \n",
       "1       2   4272         2010         339   14            0.079354   \n",
       "2       3   3592         1976         387   48            0.107739   \n",
       "3       4    966         1973         297   51            0.307453   \n",
       "4       5   4926         1968         403   56            0.081811   \n",
       "\n",
       "   WellType_Onshore  Geology_Sandstone  Geology_Shale  ProductionPerDepth1  \n",
       "0                 0                  1              0             0.341176  \n",
       "1                 0                  1              0             0.079354  \n",
       "2                 1                  0              1             0.107739  \n",
       "3                 1                  0              1             0.307453  \n",
       "4                 0                  1              0             0.081811  "
      ]
     },
     "execution_count": 20,
     "metadata": {},
     "output_type": "execute_result"
    }
   ],
   "source": [
    "data.head()"
   ]
  },
  {
   "cell_type": "markdown",
   "id": "55011d86",
   "metadata": {},
   "source": [
    "## Chi2 and Annova"
   ]
  },
  {
   "cell_type": "code",
   "execution_count": 22,
   "id": "f86c80de-6193-48c5-a60d-386261d517df",
   "metadata": {},
   "outputs": [
    {
     "name": "stdout",
     "output_type": "stream",
     "text": [
      "<class 'pandas.core.frame.DataFrame'>\n",
      "RangeIndex: 1000 entries, 0 to 999\n",
      "Data columns (total 10 columns):\n",
      " #   Column               Non-Null Count  Dtype  \n",
      "---  ------               --------------  -----  \n",
      " 0   WellID               1000 non-null   int64  \n",
      " 1   Depth                1000 non-null   int64  \n",
      " 2   YearDrilled          1000 non-null   int64  \n",
      " 3   Production           1000 non-null   int64  \n",
      " 4   Age                  1000 non-null   int64  \n",
      " 5   ProductionPerDepth   1000 non-null   float64\n",
      " 6   WellType_Onshore     1000 non-null   uint8  \n",
      " 7   Geology_Sandstone    1000 non-null   uint8  \n",
      " 8   Geology_Shale        1000 non-null   uint8  \n",
      " 9   ProductionPerDepth1  1000 non-null   float64\n",
      "dtypes: float64(2), int64(5), uint8(3)\n",
      "memory usage: 57.7 KB\n"
     ]
    }
   ],
   "source": [
    "data.info()"
   ]
  },
  {
   "cell_type": "code",
   "execution_count": 23,
   "id": "1437b4df-73a2-4412-a5ec-ae9cdfa38416",
   "metadata": {},
   "outputs": [
    {
     "name": "stdout",
     "output_type": "stream",
     "text": [
      "categorical_features : WellType_Onshore Geology_Sandstone Geology_Shale\n",
      "\n",
      "numerical_features : WellID Depth YearDrilled Production Age ProductionPerDepth ProductionPerDepth1\n"
     ]
    }
   ],
   "source": [
    "col = list(data.columns)\n",
    "categorical_features = []\n",
    "numerical_features = []\n",
    "\n",
    "for i in col:\n",
    "    if len(data[i].unique()) >6:\n",
    "        numerical_features.append(i)\n",
    "    else:\n",
    "        categorical_features.append(i)\n",
    "print('categorical_features :', *categorical_features)\n",
    "print()\n",
    "print(\"numerical_features :\", *numerical_features)"
   ]
  },
  {
   "cell_type": "code",
   "execution_count": 24,
   "id": "dff09057-856b-47f3-9db4-b9b2144085e7",
   "metadata": {},
   "outputs": [],
   "source": [
    "# Chi-Square Test\n",
    "from sklearn.feature_selection import SelectKBest\n",
    "from sklearn.feature_selection import chi2, mutual_info_classif"
   ]
  },
  {
   "cell_type": "code",
   "execution_count": 28,
   "id": "f94e23ae-ecbb-446b-947a-03753923f26d",
   "metadata": {},
   "outputs": [
    {
     "data": {
      "image/png": "[encoded data removed]",
      "text/plain": [
       "<Figure size 500x500 with 2 Axes>"
      ]
     },
     "metadata": {},
     "output_type": "display_data"
    }
   ],
   "source": [
    "# Chi-Square Test :\n",
    "features = data.loc[:,categorical_features] # char\n",
    "target = data.loc[:,'Production'] # cat\n",
    "best_features = SelectKBest(score_func = chi2, k='all')\n",
    "fit = best_features.fit(features, target)\n",
    "\n",
    "featureScores = pd.DataFrame(data = fit.scores_, index= list(categorical_features),\n",
    "                             columns = ['Chi Squared Score'])\n",
    "\n",
    "plt.subplots(figsize=(5,5))\n",
    "sns.heatmap(featureScores.sort_values(ascending = False, by = 'Chi Squared Score'),\n",
    "            annot=True, cmap ='rainbow', linewidths = 0.4, linecolor = 'black', fmt = '.2f');\n",
    "plt.title('Selection of Categorical Features')\n",
    "plt.show()"
   ]
  },
  {
   "cell_type": "markdown",
   "id": "7a02de6d",
   "metadata": {},
   "source": [
    "## Annova test"
   ]
  },
  {
   "cell_type": "code",
   "execution_count": 31,
   "id": "4160371e-c01e-4140-91c0-d35d3bd6c2bd",
   "metadata": {},
   "outputs": [
    {
     "data": {
      "image/png": "[encoded data removed]",
      "text/plain": [
       "<Figure size 500x500 with 2 Axes>"
      ]
     },
     "metadata": {},
     "output_type": "display_data"
    }
   ],
   "source": [
    "from sklearn.feature_selection import f_classif\n",
    "\n",
    "# Anova Testing\n",
    "\n",
    "features = data.loc[:,numerical_features]\n",
    "target = data.loc[:,'Production']\n",
    "\n",
    "best_features = SelectKBest(score_func = f_classif, k='all')\n",
    "fit = best_features.fit(features, target)\n",
    "\n",
    "featureScores = pd.DataFrame(data = fit.scores_, index= list(features.columns),\n",
    "                             columns = ['ANOVA Score'])\n",
    "\n",
    "plt.subplots(figsize=(5,5))\n",
    "sns.heatmap(featureScores.sort_values(ascending = False, by = 'ANOVA Score'),\n",
    "            annot=True, cmap = 'coolwarm', linewidths = 0.4, linecolor = 'black', fmt = '.2f');\n",
    "plt.title('Selection of Numerical Features')\n",
    "plt.show()"
   ]
  },
  {
   "cell_type": "code",
   "execution_count": 33,
   "id": "a20358c0-425e-463d-a56c-94dc3bd3b293",
   "metadata": {},
   "outputs": [
    {
     "data": {
      "image/png": "[encoded data removed]",
      "text/plain": [
       "<Figure size 2000x800 with 2 Axes>"
      ]
     },
     "metadata": {},
     "output_type": "display_data"
    }
   ],
   "source": [
    "# Correlation part :\n",
    "\n",
    "plt.figure(figsize=(20,8))\n",
    "sns.heatmap(data.corr(), cmap='rainbow', annot=True);"
   ]
  },
  {
   "cell_type": "code",
   "execution_count": 34,
   "id": "3e3c6365-d07b-40f9-8cba-1f7053903276",
   "metadata": {},
   "outputs": [
    {
     "data": {
      "image/png": "[encoded data removed]",
      "text/plain": [
       "<Figure size 500x500 with 2 Axes>"
      ]
     },
     "metadata": {},
     "output_type": "display_data"
    }
   ],
   "source": [
    "corr = data.corrwith(data['Production']).sort_values(ascending = False).to_frame()\n",
    "corr.columns = ['Correlation']\n",
    "plt.subplots(figsize = (5,5))\n",
    "sns.heatmap(corr, annot=True, cmap= 'rainbow', linewidths = 0.4, linecolor='black')\n",
    "plt.title(\"Correlation Matrix w.r.t. outcomes\")\n",
    "plt.show()"
   ]
  },
  {
   "cell_type": "markdown",
   "id": "45353a4a",
   "metadata": {},
   "source": [
    "## Model Building"
   ]
  },
  {
   "cell_type": "code",
   "execution_count": 40,
   "id": "8a7c325f-9a49-4de4-b55d-a3eb837698a0",
   "metadata": {},
   "outputs": [],
   "source": [
    "from sklearn.model_selection import train_test_split\n",
    "X_train, X_test, y_train, y_test = train_test_split(\n",
    "x,y,test_size= 0.2, random_state= 101)"
   ]
  },
  {
   "cell_type": "code",
   "execution_count": 36,
   "id": "1edef503-f5c5-4804-ba8c-98752ad7ec2f",
   "metadata": {},
   "outputs": [],
   "source": [
    "from statsmodels.regression.linear_model import OLS\n",
    "import statsmodels.regression.linear_model as smf"
   ]
  },
  {
   "cell_type": "code",
   "execution_count": 80,
   "id": "63c337a2-7c8c-4b70-b9f6-67369da82afa",
   "metadata": {},
   "outputs": [
    {
     "data": {
      "text/html": [
       "<table class=\"simpletable\">\n",
       "<caption>OLS Regression Results</caption>\n",
       "<tr>\n",
       "  <th>Dep. Variable:</th>       <td>Production</td>    <th>  R-squared:         </th> <td>   0.467</td> \n",
       "</tr>\n",
       "<tr>\n",
       "  <th>Model:</th>                   <td>OLS</td>       <th>  Adj. R-squared:    </th> <td>   0.463</td> \n",
       "</tr>\n",
       "<tr>\n",
       "  <th>Method:</th>             <td>Least Squares</td>  <th>  F-statistic:       </th> <td>   138.9</td> \n",
       "</tr>\n",
       "<tr>\n",
       "  <th>Date:</th>             <td>Sun, 30 Jun 2024</td> <th>  Prob (F-statistic):</th> <td>8.76e-106</td>\n",
       "</tr>\n",
       "<tr>\n",
       "  <th>Time:</th>                 <td>22:16:39</td>     <th>  Log-Likelihood:    </th> <td> -4777.8</td> \n",
       "</tr>\n",
       "<tr>\n",
       "  <th>No. Observations:</th>      <td>   800</td>      <th>  AIC:               </th> <td>   9568.</td> \n",
       "</tr>\n",
       "<tr>\n",
       "  <th>Df Residuals:</th>          <td>   794</td>      <th>  BIC:               </th> <td>   9596.</td> \n",
       "</tr>\n",
       "<tr>\n",
       "  <th>Df Model:</th>              <td>     5</td>      <th>                     </th>     <td> </td>    \n",
       "</tr>\n",
       "<tr>\n",
       "  <th>Covariance Type:</th>      <td>nonrobust</td>    <th>                     </th>     <td> </td>    \n",
       "</tr>\n",
       "</table>\n",
       "<table class=\"simpletable\">\n",
       "<tr>\n",
       "           <td></td>             <th>coef</th>     <th>std err</th>      <th>t</th>      <th>P>|t|</th>  <th>[0.025</th>    <th>0.975]</th>  \n",
       "</tr>\n",
       "<tr>\n",
       "  <th>Depth</th>              <td>    0.0559</td> <td>    0.002</td> <td>   26.572</td> <td> 0.000</td> <td>    0.052</td> <td>    0.060</td>\n",
       "</tr>\n",
       "<tr>\n",
       "  <th>Age</th>                <td>   -0.2183</td> <td>    0.174</td> <td>   -1.255</td> <td> 0.210</td> <td>   -0.560</td> <td>    0.123</td>\n",
       "</tr>\n",
       "<tr>\n",
       "  <th>ProductionPerDepth</th> <td>  934.0996</td> <td>   26.580</td> <td>   35.143</td> <td> 0.000</td> <td>  881.924</td> <td>  986.276</td>\n",
       "</tr>\n",
       "<tr>\n",
       "  <th>WellType_Onshore</th>   <td>    3.9521</td> <td>    6.563</td> <td>    0.602</td> <td> 0.547</td> <td>   -8.931</td> <td>   16.835</td>\n",
       "</tr>\n",
       "<tr>\n",
       "  <th>Geology_Sandstone</th>  <td>   -6.1986</td> <td>    8.097</td> <td>   -0.766</td> <td> 0.444</td> <td>  -22.093</td> <td>    9.696</td>\n",
       "</tr>\n",
       "<tr>\n",
       "  <th>Geology_Shale</th>      <td>   -4.9392</td> <td>    8.018</td> <td>   -0.616</td> <td> 0.538</td> <td>  -20.678</td> <td>   10.799</td>\n",
       "</tr>\n",
       "</table>\n",
       "<table class=\"simpletable\">\n",
       "<tr>\n",
       "  <th>Omnibus:</th>       <td>13.530</td> <th>  Durbin-Watson:     </th> <td>   2.000</td>\n",
       "</tr>\n",
       "<tr>\n",
       "  <th>Prob(Omnibus):</th> <td> 0.001</td> <th>  Jarque-Bera (JB):  </th> <td>  11.576</td>\n",
       "</tr>\n",
       "<tr>\n",
       "  <th>Skew:</th>          <td>-0.226</td> <th>  Prob(JB):          </th> <td> 0.00306</td>\n",
       "</tr>\n",
       "<tr>\n",
       "  <th>Kurtosis:</th>      <td> 2.622</td> <th>  Cond. No.          </th> <td>2.48e+04</td>\n",
       "</tr>\n",
       "</table><br/><br/>Notes:<br/>[1] Standard Errors assume that the covariance matrix of the errors is correctly specified.<br/>[2] The condition number is large, 2.48e+04. This might indicate that there are<br/>strong multicollinearity or other numerical problems."
      ],
      "text/plain": [
       "<class 'statsmodels.iolib.summary.Summary'>\n",
       "\"\"\"\n",
       "                            OLS Regression Results                            \n",
       "==============================================================================\n",
       "Dep. Variable:             Production   R-squared:                       0.467\n",
       "Model:                            OLS   Adj. R-squared:                  0.463\n",
       "Method:                 Least Squares   F-statistic:                     138.9\n",
       "Date:                Sun, 30 Jun 2024   Prob (F-statistic):          8.76e-106\n",
       "Time:                        22:16:39   Log-Likelihood:                -4777.8\n",
       "No. Observations:                 800   AIC:                             9568.\n",
       "Df Residuals:                     794   BIC:                             9596.\n",
       "Df Model:                           5                                         \n",
       "Covariance Type:            nonrobust                                         \n",
       "======================================================================================\n",
       "                         coef    std err          t      P>|t|      [0.025      0.975]\n",
       "--------------------------------------------------------------------------------------\n",
       "Depth                  0.0559      0.002     26.572      0.000       0.052       0.060\n",
       "Age                   -0.2183      0.174     -1.255      0.210      -0.560       0.123\n",
       "ProductionPerDepth   934.0996     26.580     35.143      0.000     881.924     986.276\n",
       "WellType_Onshore       3.9521      6.563      0.602      0.547      -8.931      16.835\n",
       "Geology_Sandstone     -6.1986      8.097     -0.766      0.444     -22.093       9.696\n",
       "Geology_Shale         -4.9392      8.018     -0.616      0.538     -20.678      10.799\n",
       "==============================================================================\n",
       "Omnibus:                       13.530   Durbin-Watson:                   2.000\n",
       "Prob(Omnibus):                  0.001   Jarque-Bera (JB):               11.576\n",
       "Skew:                          -0.226   Prob(JB):                      0.00306\n",
       "Kurtosis:                       2.622   Cond. No.                     2.48e+04\n",
       "==============================================================================\n",
       "\n",
       "Notes:\n",
       "[1] Standard Errors assume that the covariance matrix of the errors is correctly specified.\n",
       "[2] The condition number is large, 2.48e+04. This might indicate that there are\n",
       "strong multicollinearity or other numerical problems.\n",
       "\"\"\""
      ]
     },
     "execution_count": 80,
     "metadata": {},
     "output_type": "execute_result"
    }
   ],
   "source": [
    "import statsmodels as sm\n",
    "# X_train_constant = sm.tools.tools.add_constant(X_train)\n",
    "reg_model = smf.OLS(endog= y_train, exog= X_train, hasconst= True).fit()\n",
    "reg_model.summary()"
   ]
  },
  {
   "cell_type": "code",
   "execution_count": 81,
   "id": "dcdaec99-0ce5-49e9-a561-21d7027b7792",
   "metadata": {},
   "outputs": [
    {
     "data": {
      "text/html": [
       "<table class=\"simpletable\">\n",
       "<caption>OLS Regression Results</caption>\n",
       "<tr>\n",
       "  <th>Dep. Variable:</th>       <td>Production</td>    <th>  R-squared:         </th> <td>  -4.467</td>\n",
       "</tr>\n",
       "<tr>\n",
       "  <th>Model:</th>                   <td>OLS</td>       <th>  Adj. R-squared:    </th> <td>  -4.608</td>\n",
       "</tr>\n",
       "<tr>\n",
       "  <th>Method:</th>             <td>Least Squares</td>  <th>  F-statistic:       </th> <td>  -31.70</td>\n",
       "</tr>\n",
       "<tr>\n",
       "  <th>Date:</th>             <td>Sun, 30 Jun 2024</td> <th>  Prob (F-statistic):</th>  <td>  1.00</td> \n",
       "</tr>\n",
       "<tr>\n",
       "  <th>Time:</th>                 <td>22:17:17</td>     <th>  Log-Likelihood:    </th> <td> -1410.8</td>\n",
       "</tr>\n",
       "<tr>\n",
       "  <th>No. Observations:</th>      <td>   200</td>      <th>  AIC:               </th> <td>   2834.</td>\n",
       "</tr>\n",
       "<tr>\n",
       "  <th>Df Residuals:</th>          <td>   194</td>      <th>  BIC:               </th> <td>   2853.</td>\n",
       "</tr>\n",
       "<tr>\n",
       "  <th>Df Model:</th>              <td>     5</td>      <th>                     </th>     <td> </td>   \n",
       "</tr>\n",
       "<tr>\n",
       "  <th>Covariance Type:</th>      <td>nonrobust</td>    <th>                     </th>     <td> </td>   \n",
       "</tr>\n",
       "</table>\n",
       "<table class=\"simpletable\">\n",
       "<tr>\n",
       "   <td></td>     <th>coef</th>     <th>std err</th>      <th>t</th>      <th>P>|t|</th>  <th>[0.025</th>    <th>0.975]</th>  \n",
       "</tr>\n",
       "<tr>\n",
       "  <th>x1</th> <td>   69.8447</td> <td>   27.765</td> <td>    2.516</td> <td> 0.013</td> <td>   15.084</td> <td>  124.605</td>\n",
       "</tr>\n",
       "<tr>\n",
       "  <th>x2</th> <td>   36.0954</td> <td>   19.560</td> <td>    1.845</td> <td> 0.067</td> <td>   -2.482</td> <td>   74.672</td>\n",
       "</tr>\n",
       "<tr>\n",
       "  <th>x3</th> <td>  110.8357</td> <td>   29.383</td> <td>    3.772</td> <td> 0.000</td> <td>   52.884</td> <td>  168.787</td>\n",
       "</tr>\n",
       "<tr>\n",
       "  <th>x4</th> <td>    4.6310</td> <td>   20.322</td> <td>    0.228</td> <td> 0.820</td> <td>  -35.450</td> <td>   44.712</td>\n",
       "</tr>\n",
       "<tr>\n",
       "  <th>x5</th> <td>   -2.6676</td> <td>   24.403</td> <td>   -0.109</td> <td> 0.913</td> <td>  -50.798</td> <td>   45.462</td>\n",
       "</tr>\n",
       "<tr>\n",
       "  <th>x6</th> <td>    6.9701</td> <td>   23.789</td> <td>    0.293</td> <td> 0.770</td> <td>  -39.947</td> <td>   53.888</td>\n",
       "</tr>\n",
       "</table>\n",
       "<table class=\"simpletable\">\n",
       "<tr>\n",
       "  <th>Omnibus:</th>       <td> 2.278</td> <th>  Durbin-Watson:     </th> <td>   0.223</td>\n",
       "</tr>\n",
       "<tr>\n",
       "  <th>Prob(Omnibus):</th> <td> 0.320</td> <th>  Jarque-Bera (JB):  </th> <td>   1.941</td>\n",
       "</tr>\n",
       "<tr>\n",
       "  <th>Skew:</th>          <td>-0.119</td> <th>  Prob(JB):          </th> <td>   0.379</td>\n",
       "</tr>\n",
       "<tr>\n",
       "  <th>Kurtosis:</th>      <td> 2.581</td> <th>  Cond. No.          </th> <td>    2.49</td>\n",
       "</tr>\n",
       "</table><br/><br/>Notes:<br/>[1] Standard Errors assume that the covariance matrix of the errors is correctly specified."
      ],
      "text/plain": [
       "<class 'statsmodels.iolib.summary.Summary'>\n",
       "\"\"\"\n",
       "                            OLS Regression Results                            \n",
       "==============================================================================\n",
       "Dep. Variable:             Production   R-squared:                      -4.467\n",
       "Model:                            OLS   Adj. R-squared:                 -4.608\n",
       "Method:                 Least Squares   F-statistic:                    -31.70\n",
       "Date:                Sun, 30 Jun 2024   Prob (F-statistic):               1.00\n",
       "Time:                        22:17:17   Log-Likelihood:                -1410.8\n",
       "No. Observations:                 200   AIC:                             2834.\n",
       "Df Residuals:                     194   BIC:                             2853.\n",
       "Df Model:                           5                                         \n",
       "Covariance Type:            nonrobust                                         \n",
       "==============================================================================\n",
       "                 coef    std err          t      P>|t|      [0.025      0.975]\n",
       "------------------------------------------------------------------------------\n",
       "x1            69.8447     27.765      2.516      0.013      15.084     124.605\n",
       "x2            36.0954     19.560      1.845      0.067      -2.482      74.672\n",
       "x3           110.8357     29.383      3.772      0.000      52.884     168.787\n",
       "x4             4.6310     20.322      0.228      0.820     -35.450      44.712\n",
       "x5            -2.6676     24.403     -0.109      0.913     -50.798      45.462\n",
       "x6             6.9701     23.789      0.293      0.770     -39.947      53.888\n",
       "==============================================================================\n",
       "Omnibus:                        2.278   Durbin-Watson:                   0.223\n",
       "Prob(Omnibus):                  0.320   Jarque-Bera (JB):                1.941\n",
       "Skew:                          -0.119   Prob(JB):                        0.379\n",
       "Kurtosis:                       2.581   Cond. No.                         2.49\n",
       "==============================================================================\n",
       "\n",
       "Notes:\n",
       "[1] Standard Errors assume that the covariance matrix of the errors is correctly specified.\n",
       "\"\"\""
      ]
     },
     "execution_count": 81,
     "metadata": {},
     "output_type": "execute_result"
    }
   ],
   "source": [
    "reg_model1 = smf.OLS(endog= y_test1, exog= x_test_sc, hasconst= True).fit()\n",
    "reg_model1.summary()"
   ]
  },
  {
   "cell_type": "code",
   "execution_count": 53,
   "id": "298521a2-70da-44aa-a25b-196a114930e1",
   "metadata": {},
   "outputs": [
    {
     "data": {
      "text/html": [
       "<table class=\"simpletable\">\n",
       "<caption>OLS Regression Results</caption>\n",
       "<tr>\n",
       "  <th>Dep. Variable:</th>       <td>Production</td>    <th>  R-squared (uncentered):</th>      <td>   0.902</td>\n",
       "</tr>\n",
       "<tr>\n",
       "  <th>Model:</th>                   <td>OLS</td>       <th>  Adj. R-squared (uncentered):</th> <td>   0.901</td>\n",
       "</tr>\n",
       "<tr>\n",
       "  <th>Method:</th>             <td>Least Squares</td>  <th>  F-statistic:       </th>          <td>   1213.</td>\n",
       "</tr>\n",
       "<tr>\n",
       "  <th>Date:</th>             <td>Sun, 30 Jun 2024</td> <th>  Prob (F-statistic):</th>           <td>  0.00</td> \n",
       "</tr>\n",
       "<tr>\n",
       "  <th>Time:</th>                 <td>21:29:08</td>     <th>  Log-Likelihood:    </th>          <td> -4777.8</td>\n",
       "</tr>\n",
       "<tr>\n",
       "  <th>No. Observations:</th>      <td>   800</td>      <th>  AIC:               </th>          <td>   9568.</td>\n",
       "</tr>\n",
       "<tr>\n",
       "  <th>Df Residuals:</th>          <td>   794</td>      <th>  BIC:               </th>          <td>   9596.</td>\n",
       "</tr>\n",
       "<tr>\n",
       "  <th>Df Model:</th>              <td>     6</td>      <th>                     </th>              <td> </td>   \n",
       "</tr>\n",
       "<tr>\n",
       "  <th>Covariance Type:</th>      <td>nonrobust</td>    <th>                     </th>              <td> </td>   \n",
       "</tr>\n",
       "</table>\n",
       "<table class=\"simpletable\">\n",
       "<tr>\n",
       "           <td></td>             <th>coef</th>     <th>std err</th>      <th>t</th>      <th>P>|t|</th>  <th>[0.025</th>    <th>0.975]</th>  \n",
       "</tr>\n",
       "<tr>\n",
       "  <th>Depth</th>              <td>    0.0559</td> <td>    0.002</td> <td>   26.572</td> <td> 0.000</td> <td>    0.052</td> <td>    0.060</td>\n",
       "</tr>\n",
       "<tr>\n",
       "  <th>Age</th>                <td>   -0.2183</td> <td>    0.174</td> <td>   -1.255</td> <td> 0.210</td> <td>   -0.560</td> <td>    0.123</td>\n",
       "</tr>\n",
       "<tr>\n",
       "  <th>ProductionPerDepth</th> <td>  934.0996</td> <td>   26.580</td> <td>   35.143</td> <td> 0.000</td> <td>  881.924</td> <td>  986.276</td>\n",
       "</tr>\n",
       "<tr>\n",
       "  <th>WellType_Onshore</th>   <td>    3.9521</td> <td>    6.563</td> <td>    0.602</td> <td> 0.547</td> <td>   -8.931</td> <td>   16.835</td>\n",
       "</tr>\n",
       "<tr>\n",
       "  <th>Geology_Sandstone</th>  <td>   -6.1986</td> <td>    8.097</td> <td>   -0.766</td> <td> 0.444</td> <td>  -22.093</td> <td>    9.696</td>\n",
       "</tr>\n",
       "<tr>\n",
       "  <th>Geology_Shale</th>      <td>   -4.9392</td> <td>    8.018</td> <td>   -0.616</td> <td> 0.538</td> <td>  -20.678</td> <td>   10.799</td>\n",
       "</tr>\n",
       "</table>\n",
       "<table class=\"simpletable\">\n",
       "<tr>\n",
       "  <th>Omnibus:</th>       <td>13.530</td> <th>  Durbin-Watson:     </th> <td>   2.000</td>\n",
       "</tr>\n",
       "<tr>\n",
       "  <th>Prob(Omnibus):</th> <td> 0.001</td> <th>  Jarque-Bera (JB):  </th> <td>  11.576</td>\n",
       "</tr>\n",
       "<tr>\n",
       "  <th>Skew:</th>          <td>-0.226</td> <th>  Prob(JB):          </th> <td> 0.00306</td>\n",
       "</tr>\n",
       "<tr>\n",
       "  <th>Kurtosis:</th>      <td> 2.622</td> <th>  Cond. No.          </th> <td>2.48e+04</td>\n",
       "</tr>\n",
       "</table><br/><br/>Notes:<br/>[1] R² is computed without centering (uncentered) since the model does not contain a constant.<br/>[2] Standard Errors assume that the covariance matrix of the errors is correctly specified.<br/>[3] The condition number is large, 2.48e+04. This might indicate that there are<br/>strong multicollinearity or other numerical problems."
      ],
      "text/plain": [
       "<class 'statsmodels.iolib.summary.Summary'>\n",
       "\"\"\"\n",
       "                                 OLS Regression Results                                \n",
       "=======================================================================================\n",
       "Dep. Variable:             Production   R-squared (uncentered):                   0.902\n",
       "Model:                            OLS   Adj. R-squared (uncentered):              0.901\n",
       "Method:                 Least Squares   F-statistic:                              1213.\n",
       "Date:                Sun, 30 Jun 2024   Prob (F-statistic):                        0.00\n",
       "Time:                        21:29:08   Log-Likelihood:                         -4777.8\n",
       "No. Observations:                 800   AIC:                                      9568.\n",
       "Df Residuals:                     794   BIC:                                      9596.\n",
       "Df Model:                           6                                                  \n",
       "Covariance Type:            nonrobust                                                  \n",
       "======================================================================================\n",
       "                         coef    std err          t      P>|t|      [0.025      0.975]\n",
       "--------------------------------------------------------------------------------------\n",
       "Depth                  0.0559      0.002     26.572      0.000       0.052       0.060\n",
       "Age                   -0.2183      0.174     -1.255      0.210      -0.560       0.123\n",
       "ProductionPerDepth   934.0996     26.580     35.143      0.000     881.924     986.276\n",
       "WellType_Onshore       3.9521      6.563      0.602      0.547      -8.931      16.835\n",
       "Geology_Sandstone     -6.1986      8.097     -0.766      0.444     -22.093       9.696\n",
       "Geology_Shale         -4.9392      8.018     -0.616      0.538     -20.678      10.799\n",
       "==============================================================================\n",
       "Omnibus:                       13.530   Durbin-Watson:                   2.000\n",
       "Prob(Omnibus):                  0.001   Jarque-Bera (JB):               11.576\n",
       "Skew:                          -0.226   Prob(JB):                      0.00306\n",
       "Kurtosis:                       2.622   Cond. No.                     2.48e+04\n",
       "==============================================================================\n",
       "\n",
       "Notes:\n",
       "[1] R² is computed without centering (uncentered) since the model does not contain a constant.\n",
       "[2] Standard Errors assume that the covariance matrix of the errors is correctly specified.\n",
       "[3] The condition number is large, 2.48e+04. This might indicate that there are\n",
       "strong multicollinearity or other numerical problems.\n",
       "\"\"\""
      ]
     },
     "execution_count": 53,
     "metadata": {},
     "output_type": "execute_result"
    }
   ],
   "source": [
    "#with scaled data\n",
    "reg_model2 = smf.OLS(endog= y_train1, exog= x_train_sc).fit()\n",
    "reg_model.summary()"
   ]
  },
  {
   "cell_type": "code",
   "execution_count": 44,
   "id": "097b898b-3aa4-4328-b1f3-827d3727c339",
   "metadata": {},
   "outputs": [],
   "source": [
    "from sklearn.linear_model import LinearRegression\n",
    "lr = LinearRegression()\n",
    "lr.fit(X_train, y_train)\n",
    "y_pred_train = lr.predict(X_train)\n",
    "y_pred_test = lr.predict(X_test)"
   ]
  },
  {
   "cell_type": "code",
   "execution_count": 46,
   "id": "3684298e-2c75-4a6a-8d48-ee5e26042f27",
   "metadata": {},
   "outputs": [],
   "source": [
    "from sklearn.metrics import *"
   ]
  },
  {
   "cell_type": "code",
   "execution_count": 47,
   "id": "cc7c8346-d533-42a6-83ac-806763d6a5fa",
   "metadata": {},
   "outputs": [
    {
     "name": "stdout",
     "output_type": "stream",
     "text": [
      "Linear model training accuracy 0.46717909801512747\n",
      "Linear model training accuracy 0.5056151655620318\n"
     ]
    }
   ],
   "source": [
    "print(\"Linear model training accuracy\", r2_score(y_train, y_pred_train))\n",
    "print(\"Linear model training accuracy\", r2_score(y_test, y_pred_test))"
   ]
  },
  {
   "cell_type": "code",
   "execution_count": 56,
   "id": "8227d033-10b0-4675-b0cf-71f34bc762b0",
   "metadata": {},
   "outputs": [],
   "source": [
    "from sklearn.linear_model import LinearRegression\n",
    "lr = LinearRegression()\n",
    "lr.fit(x_train_sc, y_train1)\n",
    "y_pred_train = lr.predict(x_train_sc)\n",
    "y_pred_test = lr.predict(x_test_sc)"
   ]
  },
  {
   "cell_type": "code",
   "execution_count": 57,
   "id": "d21e7c4a-0fa7-4d3a-8f43-1e1c545f5861",
   "metadata": {},
   "outputs": [
    {
     "name": "stdout",
     "output_type": "stream",
     "text": [
      "Linear model training accuracy 0.48392700054466076\n",
      "Linear model training accuracy 0.43504000066770276\n"
     ]
    }
   ],
   "source": [
    "print(\"Linear model training accuracy\", r2_score(y_train1, y_pred_train))\n",
    "print(\"Linear model training accuracy\", r2_score(y_test1, y_pred_test))"
   ]
  },
  {
   "cell_type": "code",
   "execution_count": 58,
   "id": "f9473878",
   "metadata": {},
   "outputs": [],
   "source": [
    "#regularization methode\n",
    "from sklearn.linear_model import Lasso, Ridge, ElasticNet"
   ]
  },
  {
   "cell_type": "code",
   "execution_count": 63,
   "id": "89c2e573",
   "metadata": {},
   "outputs": [],
   "source": [
    "lasso = Lasso(alpha= 0.3)\n",
    "lasso.fit(X_train, y_train)\n",
    "y_pred_l1_train = lasso.predict(X_train)\n",
    "y_pred_l1_test = lasso.predict(X_test)"
   ]
  },
  {
   "cell_type": "code",
   "execution_count": 64,
   "id": "2647e4d0",
   "metadata": {},
   "outputs": [
    {
     "name": "stdout",
     "output_type": "stream",
     "text": [
      "Lasso model training accuracy 0.4664307755860547\n",
      "Lasso model training accuracy 0.5044104977190789\n"
     ]
    }
   ],
   "source": [
    "print(\"Lasso model training accuracy\", r2_score(y_train, y_pred_l1_train))\n",
    "print(\"Lasso model training accuracy\", r2_score(y_test, y_pred_l1_test))"
   ]
  },
  {
   "cell_type": "code",
   "execution_count": 65,
   "id": "25ad9fcf",
   "metadata": {},
   "outputs": [
    {
     "name": "stdout",
     "output_type": "stream",
     "text": [
      "Ridge model training accuracy 0.46635919817243543\n",
      "Ridge model training accuracy 0.5028438758056879\n"
     ]
    }
   ],
   "source": [
    "#ridge\n",
    "ridge = Ridge(alpha= 0.3)\n",
    "ridge.fit(X_train, y_train)\n",
    "y_pred_l2_train = ridge.predict(X_train)\n",
    "y_pred_l2_test = ridge.predict(X_test)\n",
    "\n",
    "print(\"Ridge model training accuracy\", r2_score(y_train, y_pred_l2_train))\n",
    "print(\"Ridge model training accuracy\", r2_score(y_test, y_pred_l2_test))"
   ]
  },
  {
   "cell_type": "code",
   "execution_count": 68,
   "id": "fccfc04a",
   "metadata": {},
   "outputs": [
    {
     "name": "stdout",
     "output_type": "stream",
     "text": [
      "Elasticnet model training accuracy 0.029930864644626465\n",
      "Elasticnet model training accuracy 0.025308397197225885\n"
     ]
    }
   ],
   "source": [
    "#Elacticnet\n",
    "#ridge\n",
    "elasticnet = ElasticNet(alpha= 0.3, l1_ratio= 0.1)\n",
    "elasticnet.fit(X_train, y_train)\n",
    "y_pred_el_train = elasticnet.predict(X_train)\n",
    "y_pred_el_test = elasticnet.predict(X_test)\n",
    "\n",
    "print(\"Elasticnet model training accuracy\", r2_score(y_train, y_pred_el_train))\n",
    "print(\"Elasticnet model training accuracy\", r2_score(y_test, y_pred_el_test))"
   ]
  },
  {
   "cell_type": "markdown",
   "id": "2880f2fd",
   "metadata": {},
   "source": [
    "## Model Selection"
   ]
  },
  {
   "cell_type": "code",
   "execution_count": 69,
   "id": "0b14c189",
   "metadata": {},
   "outputs": [],
   "source": [
    "from sklearn.ensemble import RandomForestRegressor, GradientBoostingRegressor\n",
    "from sklearn.tree import DecisionTreeRegressor\n",
    "from sklearn.linear_model import LinearRegression"
   ]
  },
  {
   "cell_type": "code",
   "execution_count": 72,
   "id": "0545c48f",
   "metadata": {},
   "outputs": [],
   "source": [
    "#intialize the models\n",
    "lr = LinearRegression()\n",
    "rf = RandomForestRegressor()\n",
    "dt = DecisionTreeRegressor()\n",
    "gdr = GradientBoostingRegressor()"
   ]
  },
  {
   "cell_type": "code",
   "execution_count": 73,
   "id": "6f77ce56",
   "metadata": {},
   "outputs": [
    {
     "data": {
      "text/html": [
       "<style>#sk-container-id-2 {color: black;background-color: white;}#sk-container-id-2 pre{padding: 0;}#sk-container-id-2 div.sk-toggleable {background-color: white;}#sk-container-id-2 label.sk-toggleable__label {cursor: pointer;display: block;width: 100%;margin-bottom: 0;padding: 0.3em;box-sizing: border-box;text-align: center;}#sk-container-id-2 label.sk-toggleable__label-arrow:before {content: \"▸\";float: left;margin-right: 0.25em;color: #696969;}#sk-container-id-2 label.sk-toggleable__label-arrow:hover:before {color: black;}#sk-container-id-2 div.sk-estimator:hover label.sk-toggleable__label-arrow:before {color: black;}#sk-container-id-2 div.sk-toggleable__content {max-height: 0;max-width: 0;overflow: hidden;text-align: left;background-color: #f0f8ff;}#sk-container-id-2 div.sk-toggleable__content pre {margin: 0.2em;color: black;border-radius: 0.25em;background-color: #f0f8ff;}#sk-container-id-2 input.sk-toggleable__control:checked~div.sk-toggleable__content {max-height: 200px;max-width: 100%;overflow: auto;}#sk-container-id-2 input.sk-toggleable__control:checked~label.sk-toggleable__label-arrow:before {content: \"▾\";}#sk-container-id-2 div.sk-estimator input.sk-toggleable__control:checked~label.sk-toggleable__label {background-color: #d4ebff;}#sk-container-id-2 div.sk-label input.sk-toggleable__control:checked~label.sk-toggleable__label {background-color: #d4ebff;}#sk-container-id-2 input.sk-hidden--visually {border: 0;clip: rect(1px 1px 1px 1px);clip: rect(1px, 1px, 1px, 1px);height: 1px;margin: -1px;overflow: hidden;padding: 0;position: absolute;width: 1px;}#sk-container-id-2 div.sk-estimator {font-family: monospace;background-color: #f0f8ff;border: 1px dotted black;border-radius: 0.25em;box-sizing: border-box;margin-bottom: 0.5em;}#sk-container-id-2 div.sk-estimator:hover {background-color: #d4ebff;}#sk-container-id-2 div.sk-parallel-item::after {content: \"\";width: 100%;border-bottom: 1px solid gray;flex-grow: 1;}#sk-container-id-2 div.sk-label:hover label.sk-toggleable__label {background-color: #d4ebff;}#sk-container-id-2 div.sk-serial::before {content: \"\";position: absolute;border-left: 1px solid gray;box-sizing: border-box;top: 0;bottom: 0;left: 50%;z-index: 0;}#sk-container-id-2 div.sk-serial {display: flex;flex-direction: column;align-items: center;background-color: white;padding-right: 0.2em;padding-left: 0.2em;position: relative;}#sk-container-id-2 div.sk-item {position: relative;z-index: 1;}#sk-container-id-2 div.sk-parallel {display: flex;align-items: stretch;justify-content: center;background-color: white;position: relative;}#sk-container-id-2 div.sk-item::before, #sk-container-id-2 div.sk-parallel-item::before {content: \"\";position: absolute;border-left: 1px solid gray;box-sizing: border-box;top: 0;bottom: 0;left: 50%;z-index: -1;}#sk-container-id-2 div.sk-parallel-item {display: flex;flex-direction: column;z-index: 1;position: relative;background-color: white;}#sk-container-id-2 div.sk-parallel-item:first-child::after {align-self: flex-end;width: 50%;}#sk-container-id-2 div.sk-parallel-item:last-child::after {align-self: flex-start;width: 50%;}#sk-container-id-2 div.sk-parallel-item:only-child::after {width: 0;}#sk-container-id-2 div.sk-dashed-wrapped {border: 1px dashed gray;margin: 0 0.4em 0.5em 0.4em;box-sizing: border-box;padding-bottom: 0.4em;background-color: white;}#sk-container-id-2 div.sk-label label {font-family: monospace;font-weight: bold;display: inline-block;line-height: 1.2em;}#sk-container-id-2 div.sk-label-container {text-align: center;}#sk-container-id-2 div.sk-container {/* jupyter's `normalize.less` sets `[hidden] { display: none; }` but bootstrap.min.css set `[hidden] { display: none !important; }` so we also need the `!important` here to be able to override the default hidden behavior on the sphinx rendered scikit-learn.org. See: https://github.com/scikit-learn/scikit-learn/issues/21755 */display: inline-block !important;position: relative;}#sk-container-id-2 div.sk-text-repr-fallback {display: none;}</style><div id=\"sk-container-id-2\" class=\"sk-top-container\"><div class=\"sk-text-repr-fallback\"><pre>DecisionTreeRegressor()</pre><b>In a Jupyter environment, please rerun this cell to show the HTML representation or trust the notebook. <br />On GitHub, the HTML representation is unable to render, please try loading this page with nbviewer.org.</b></div><div class=\"sk-container\" hidden><div class=\"sk-item\"><div class=\"sk-estimator sk-toggleable\"><input class=\"sk-toggleable__control sk-hidden--visually\" id=\"sk-estimator-id-2\" type=\"checkbox\" checked><label for=\"sk-estimator-id-2\" class=\"sk-toggleable__label sk-toggleable__label-arrow\">DecisionTreeRegressor</label><div class=\"sk-toggleable__content\"><pre>DecisionTreeRegressor()</pre></div></div></div></div></div>"
      ],
      "text/plain": [
       "DecisionTreeRegressor()"
      ]
     },
     "execution_count": 73,
     "metadata": {},
     "output_type": "execute_result"
    }
   ],
   "source": [
    "#model training\n",
    "lr.fit(X_train, y_train)\n",
    "rf.fit(X_train, y_train)\n",
    "gdr.fit(X_train, y_train)\n",
    "dt.fit(X_train, y_train)"
   ]
  },
  {
   "cell_type": "code",
   "execution_count": 76,
   "id": "3ce4f46b",
   "metadata": {},
   "outputs": [
    {
     "name": "stdout",
     "output_type": "stream",
     "text": [
      "Linear Regression MSE: 8351.940825584863, R2: 0.5056151655620318\n",
      "Random Forest MSE: 176.486142, R2: 0.9895530782706239\n",
      "Gradient Boosting MSE: 284.11699384905626, R2: 0.9831819769921272\n",
      "Decission Tree MSE: 458.08, R2: 0.972884409781066\n"
     ]
    }
   ],
   "source": [
    "#model evaluation\n",
    "from sklearn.metrics import r2_score, mean_squared_error\n",
    "\n",
    "#making prediction\n",
    "y_pred_lr = lr.predict(X_test)\n",
    "y_pred_rf = rf.predict(X_test)\n",
    "y_pred_gdr = gbr.predict(X_test)\n",
    "y_pred_dt = dt.predict(X_test)\n",
    "\n",
    "#calculating the metrics\n",
    "#mse\n",
    "mse_lr = mean_squared_error(y_test, y_pred_lr)\n",
    "mse_rf = mean_squared_error(y_test, y_pred_rf)\n",
    "mse_gdr = mean_squared_error(y_test, y_pred_gdr)\n",
    "mse_dt = mean_squared_error(y_test, y_pred_dt)\n",
    "\n",
    "#r2\n",
    "r2_lr = r2_score(y_test, y_pred_lr)\n",
    "r2_rf = r2_score(y_test, y_pred_rf)\n",
    "r2_gdr = r2_score(y_test, y_pred_gdr)\n",
    "r2_dt = r2_score(y_test, y_pred_dt)\n",
    "\n",
    "print(f\"Linear Regression MSE: {mse_lr}, R2: {r2_lr}\")\n",
    "print(f\"Random Forest MSE: {mse_rf}, R2: {r2_rf}\")\n",
    "print(f\"Gradient Boosting MSE: {mse_gdr}, R2: {r2_gdr}\")\n",
    "print(f\"Decission Tree MSE: {mse_dt}, R2: {r2_dt}\")"
   ]
  },
  {
   "cell_type": "code",
   "execution_count": 78,
   "id": "657964d1",
   "metadata": {},
   "outputs": [
    {
     "name": "stdout",
     "output_type": "stream",
     "text": [
      "Linear Regression train MSE: 9004.56177657912, R2: 0.46717909801512747\n",
      "Random Forest train MSE: 26.956157125, R2: 0.998404941371967\n",
      "Gradient Boosting train MSE: 111.21808847497992, R2: 0.9934189665539964\n",
      "Decission Tree train MSE: 0.0, R2: 1.0\n"
     ]
    }
   ],
   "source": [
    "#model evaluation\n",
    "from sklearn.metrics import r2_score, mean_squared_error\n",
    "\n",
    "#making prediction\n",
    "y_pred_lr = lr.predict(X_train)\n",
    "y_pred_rf = rf.predict(X_train)\n",
    "y_pred_gdr = gbr.predict(X_train)\n",
    "y_pred_dt = dt.predict(X_train)\n",
    "\n",
    "#calculating the metrics\n",
    "#mse\n",
    "mse_lr = mean_squared_error(y_train, y_pred_lr)\n",
    "mse_rf = mean_squared_error(y_train, y_pred_rf)\n",
    "mse_gdr = mean_squared_error(y_train, y_pred_gdr)\n",
    "mse_dt = mean_squared_error(y_train, y_pred_dt)\n",
    "\n",
    "#r2\n",
    "r2_lr = r2_score(y_train, y_pred_lr)\n",
    "r2_rf = r2_score(y_train, y_pred_rf)\n",
    "r2_gdr = r2_score(y_train, y_pred_gdr)\n",
    "r2_dt = r2_score(y_train, y_pred_dt)\n",
    "\n",
    "print(f\"Linear Regression train MSE: {mse_lr}, R2: {r2_lr}\")\n",
    "print(f\"Random Forest train MSE: {mse_rf}, R2: {r2_rf}\")\n",
    "print(f\"Gradient Boosting train MSE: {mse_gdr}, R2: {r2_gdr}\")\n",
    "print(f\"Decission Tree train MSE: {mse_dt}, R2: {r2_dt}\")"
   ]
  },
  {
   "cell_type": "code",
   "execution_count": null,
   "id": "40f76c8c",
   "metadata": {},
   "outputs": [],
   "source": [
    "from sklearn.model_selection import cross_val_score\n"
   ]
  }
 ],
 "metadata": {
  "kernelspec": {
   "display_name": "Python 3 (ipykernel)",
   "language": "python",
   "name": "python3"
  },
  "language_info": {
   "codemirror_mode": {
    "name": "ipython",
    "version": 3
   },
   "file_extension": ".py",
   "mimetype": "text/x-python",
   "name": "python",
   "nbconvert_exporter": "python",
   "pygments_lexer": "ipython3",
   "version": "3.11.5"
  }
 },
 "nbformat": 4,
 "nbformat_minor": 5
}
