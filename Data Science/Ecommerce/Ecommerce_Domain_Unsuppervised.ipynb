{
 "cells": [
  {
   "cell_type": "code",
   "execution_count": 1,
   "id": "6718d9f8",
   "metadata": {},
   "outputs": [],
   "source": [
    "import pandas as pd\n",
    "import numpy as np\n",
    "import matplotlib.pyplot as plt\n",
    "import seaborn as sns\n",
    "%matplotlib inline\n",
    "import warnings\n",
    "warnings.filterwarnings('ignore')"
   ]
  },
  {
   "cell_type": "code",
   "execution_count": 2,
   "id": "28c55ce8",
   "metadata": {},
   "outputs": [
    {
     "data": {
      "text/html": [
       "<div>\n",
       "<style scoped>\n",
       "    .dataframe tbody tr th:only-of-type {\n",
       "        vertical-align: middle;\n",
       "    }\n",
       "\n",
       "    .dataframe tbody tr th {\n",
       "        vertical-align: top;\n",
       "    }\n",
       "\n",
       "    .dataframe thead th {\n",
       "        text-align: right;\n",
       "    }\n",
       "</style>\n",
       "<table border=\"1\" class=\"dataframe\">\n",
       "  <thead>\n",
       "    <tr style=\"text-align: right;\">\n",
       "      <th></th>\n",
       "      <th>CustomerID</th>\n",
       "      <th>Item Code</th>\n",
       "      <th>InvoieNo</th>\n",
       "      <th>Date of purchase</th>\n",
       "      <th>Quantity</th>\n",
       "      <th>Time</th>\n",
       "      <th>price per Unit</th>\n",
       "      <th>Price</th>\n",
       "      <th>Shipping Location</th>\n",
       "      <th>Cancelled_status</th>\n",
       "      <th>Reason of return</th>\n",
       "      <th>Sold as set</th>\n",
       "    </tr>\n",
       "  </thead>\n",
       "  <tbody>\n",
       "    <tr>\n",
       "      <th>0</th>\n",
       "      <td>4355.0</td>\n",
       "      <td>15734</td>\n",
       "      <td>398177.0</td>\n",
       "      <td>29-10-2017</td>\n",
       "      <td>6.0</td>\n",
       "      <td>3:36:00 PM</td>\n",
       "      <td>321.0</td>\n",
       "      <td>1926.0</td>\n",
       "      <td>Location 1</td>\n",
       "      <td>NaN</td>\n",
       "      <td>NaN</td>\n",
       "      <td>NaN</td>\n",
       "    </tr>\n",
       "    <tr>\n",
       "      <th>1</th>\n",
       "      <td>4352.0</td>\n",
       "      <td>14616</td>\n",
       "      <td>394422.0</td>\n",
       "      <td>05-10-2017</td>\n",
       "      <td>2.0</td>\n",
       "      <td>2:53:00 PM</td>\n",
       "      <td>870.0</td>\n",
       "      <td>1740.0</td>\n",
       "      <td>Location 1</td>\n",
       "      <td>NaN</td>\n",
       "      <td>NaN</td>\n",
       "      <td>NaN</td>\n",
       "    </tr>\n",
       "    <tr>\n",
       "      <th>2</th>\n",
       "      <td>4352.0</td>\n",
       "      <td>14614</td>\n",
       "      <td>394422.0</td>\n",
       "      <td>12-10-2017</td>\n",
       "      <td>2.0</td>\n",
       "      <td>2:53:00 PM</td>\n",
       "      <td>933.0</td>\n",
       "      <td>1866.0</td>\n",
       "      <td>Location 1</td>\n",
       "      <td>NaN</td>\n",
       "      <td>NaN</td>\n",
       "      <td>NaN</td>\n",
       "    </tr>\n",
       "    <tr>\n",
       "      <th>3</th>\n",
       "      <td>4352.0</td>\n",
       "      <td>85014B</td>\n",
       "      <td>388633.0</td>\n",
       "      <td>22-08-2017</td>\n",
       "      <td>3.0</td>\n",
       "      <td>2:47:00 PM</td>\n",
       "      <td>623.0</td>\n",
       "      <td>1869.0</td>\n",
       "      <td>Location 1</td>\n",
       "      <td>NaN</td>\n",
       "      <td>NaN</td>\n",
       "      <td>NaN</td>\n",
       "    </tr>\n",
       "    <tr>\n",
       "      <th>4</th>\n",
       "      <td>4352.0</td>\n",
       "      <td>15364</td>\n",
       "      <td>394422.0</td>\n",
       "      <td>10-10-2017</td>\n",
       "      <td>2.0</td>\n",
       "      <td>2:53:00 PM</td>\n",
       "      <td>944.0</td>\n",
       "      <td>1888.0</td>\n",
       "      <td>Location 1</td>\n",
       "      <td>NaN</td>\n",
       "      <td>NaN</td>\n",
       "      <td>NaN</td>\n",
       "    </tr>\n",
       "  </tbody>\n",
       "</table>\n",
       "</div>"
      ],
      "text/plain": [
       "   CustomerID Item Code  InvoieNo Date of purchase  Quantity        Time  \\\n",
       "0      4355.0     15734  398177.0       29-10-2017       6.0  3:36:00 PM   \n",
       "1      4352.0     14616  394422.0       05-10-2017       2.0  2:53:00 PM   \n",
       "2      4352.0     14614  394422.0       12-10-2017       2.0  2:53:00 PM   \n",
       "3      4352.0    85014B  388633.0       22-08-2017       3.0  2:47:00 PM   \n",
       "4      4352.0     15364  394422.0       10-10-2017       2.0  2:53:00 PM   \n",
       "\n",
       "   price per Unit   Price Shipping Location Cancelled_status Reason of return  \\\n",
       "0           321.0  1926.0        Location 1              NaN              NaN   \n",
       "1           870.0  1740.0        Location 1              NaN              NaN   \n",
       "2           933.0  1866.0        Location 1              NaN              NaN   \n",
       "3           623.0  1869.0        Location 1              NaN              NaN   \n",
       "4           944.0  1888.0        Location 1              NaN              NaN   \n",
       "\n",
       "   Sold as set  \n",
       "0          NaN  \n",
       "1          NaN  \n",
       "2          NaN  \n",
       "3          NaN  \n",
       "4          NaN  "
      ]
     },
     "execution_count": 2,
     "metadata": {},
     "output_type": "execute_result"
    }
   ],
   "source": [
    "data = pd.read_csv('E-com_Data.csv')\n",
    "data.head()"
   ]
  },
  {
   "cell_type": "code",
   "execution_count": 3,
   "id": "8f8073de",
   "metadata": {},
   "outputs": [
    {
     "data": {
      "text/plain": [
       "(541116, 12)"
      ]
     },
     "execution_count": 3,
     "metadata": {},
     "output_type": "execute_result"
    }
   ],
   "source": [
    "data.shape"
   ]
  },
  {
   "cell_type": "code",
   "execution_count": 4,
   "id": "8f151f26",
   "metadata": {
    "scrolled": true
   },
   "outputs": [
    {
     "name": "stdout",
     "output_type": "stream",
     "text": [
      "<class 'pandas.core.frame.DataFrame'>\n",
      "RangeIndex: 541116 entries, 0 to 541115\n",
      "Data columns (total 12 columns):\n",
      " #   Column             Non-Null Count   Dtype  \n",
      "---  ------             --------------   -----  \n",
      " 0   CustomerID         404189 non-null  float64\n",
      " 1   Item Code          537979 non-null  object \n",
      " 2   InvoieNo           537979 non-null  float64\n",
      " 3   Date of purchase   537979 non-null  object \n",
      " 4   Quantity           537979 non-null  float64\n",
      " 5   Time               537979 non-null  object \n",
      " 6   price per Unit     537979 non-null  float64\n",
      " 7   Price              537979 non-null  float64\n",
      " 8   Shipping Location  537979 non-null  object \n",
      " 9   Cancelled_status   8345 non-null    object \n",
      " 10  Reason of return   3 non-null       object \n",
      " 11  Sold as set        0 non-null       float64\n",
      "dtypes: float64(6), object(6)\n",
      "memory usage: 49.5+ MB\n"
     ]
    }
   ],
   "source": [
    "data.info()"
   ]
  },
  {
   "cell_type": "code",
   "execution_count": 5,
   "id": "de8b84a1",
   "metadata": {},
   "outputs": [],
   "source": [
    "data = data[['CustomerID',\n",
    "           'Item Code',\n",
    "           'Date of purchase',\n",
    "           'Price']]"
   ]
  },
  {
   "cell_type": "code",
   "execution_count": 6,
   "id": "dac3ab92",
   "metadata": {},
   "outputs": [
    {
     "data": {
      "text/html": [
       "<div>\n",
       "<style scoped>\n",
       "    .dataframe tbody tr th:only-of-type {\n",
       "        vertical-align: middle;\n",
       "    }\n",
       "\n",
       "    .dataframe tbody tr th {\n",
       "        vertical-align: top;\n",
       "    }\n",
       "\n",
       "    .dataframe thead th {\n",
       "        text-align: right;\n",
       "    }\n",
       "</style>\n",
       "<table border=\"1\" class=\"dataframe\">\n",
       "  <thead>\n",
       "    <tr style=\"text-align: right;\">\n",
       "      <th></th>\n",
       "      <th>CustomerID</th>\n",
       "      <th>Item Code</th>\n",
       "      <th>Date of purchase</th>\n",
       "      <th>Price</th>\n",
       "    </tr>\n",
       "  </thead>\n",
       "  <tbody>\n",
       "    <tr>\n",
       "      <th>0</th>\n",
       "      <td>4355.0</td>\n",
       "      <td>15734</td>\n",
       "      <td>29-10-2017</td>\n",
       "      <td>1926.0</td>\n",
       "    </tr>\n",
       "    <tr>\n",
       "      <th>1</th>\n",
       "      <td>4352.0</td>\n",
       "      <td>14616</td>\n",
       "      <td>05-10-2017</td>\n",
       "      <td>1740.0</td>\n",
       "    </tr>\n",
       "    <tr>\n",
       "      <th>2</th>\n",
       "      <td>4352.0</td>\n",
       "      <td>14614</td>\n",
       "      <td>12-10-2017</td>\n",
       "      <td>1866.0</td>\n",
       "    </tr>\n",
       "    <tr>\n",
       "      <th>3</th>\n",
       "      <td>4352.0</td>\n",
       "      <td>85014B</td>\n",
       "      <td>22-08-2017</td>\n",
       "      <td>1869.0</td>\n",
       "    </tr>\n",
       "    <tr>\n",
       "      <th>4</th>\n",
       "      <td>4352.0</td>\n",
       "      <td>15364</td>\n",
       "      <td>10-10-2017</td>\n",
       "      <td>1888.0</td>\n",
       "    </tr>\n",
       "  </tbody>\n",
       "</table>\n",
       "</div>"
      ],
      "text/plain": [
       "   CustomerID Item Code Date of purchase   Price\n",
       "0      4355.0     15734       29-10-2017  1926.0\n",
       "1      4352.0     14616       05-10-2017  1740.0\n",
       "2      4352.0     14614       12-10-2017  1866.0\n",
       "3      4352.0    85014B       22-08-2017  1869.0\n",
       "4      4352.0     15364       10-10-2017  1888.0"
      ]
     },
     "execution_count": 6,
     "metadata": {},
     "output_type": "execute_result"
    }
   ],
   "source": [
    "data.head()"
   ]
  },
  {
   "cell_type": "code",
   "execution_count": 7,
   "id": "3b55c35a",
   "metadata": {},
   "outputs": [
    {
     "name": "stdout",
     "output_type": "stream",
     "text": [
      "<class 'pandas.core.frame.DataFrame'>\n",
      "RangeIndex: 541116 entries, 0 to 541115\n",
      "Data columns (total 4 columns):\n",
      " #   Column            Non-Null Count   Dtype  \n",
      "---  ------            --------------   -----  \n",
      " 0   CustomerID        404189 non-null  float64\n",
      " 1   Item Code         537979 non-null  object \n",
      " 2   Date of purchase  537979 non-null  object \n",
      " 3   Price             537979 non-null  float64\n",
      "dtypes: float64(2), object(2)\n",
      "memory usage: 16.5+ MB\n"
     ]
    }
   ],
   "source": [
    "data.info()"
   ]
  },
  {
   "cell_type": "code",
   "execution_count": 8,
   "id": "9a4a80ef",
   "metadata": {},
   "outputs": [
    {
     "data": {
      "text/plain": [
       "CustomerID          136927\n",
       "Item Code             3137\n",
       "Date of purchase      3137\n",
       "Price                 3137\n",
       "dtype: int64"
      ]
     },
     "execution_count": 8,
     "metadata": {},
     "output_type": "execute_result"
    }
   ],
   "source": [
    "data.isna().sum()"
   ]
  },
  {
   "cell_type": "code",
   "execution_count": 9,
   "id": "e1546df7",
   "metadata": {},
   "outputs": [],
   "source": [
    "data.dropna(inplace= True)"
   ]
  },
  {
   "cell_type": "code",
   "execution_count": 10,
   "id": "4822cd52",
   "metadata": {},
   "outputs": [
    {
     "name": "stdout",
     "output_type": "stream",
     "text": [
      "<class 'pandas.core.frame.DataFrame'>\n",
      "Int64Index: 404189 entries, 0 to 537949\n",
      "Data columns (total 4 columns):\n",
      " #   Column            Non-Null Count   Dtype  \n",
      "---  ------            --------------   -----  \n",
      " 0   CustomerID        404189 non-null  float64\n",
      " 1   Item Code         404189 non-null  object \n",
      " 2   Date of purchase  404189 non-null  object \n",
      " 3   Price             404189 non-null  float64\n",
      "dtypes: float64(2), object(2)\n",
      "memory usage: 15.4+ MB\n"
     ]
    }
   ],
   "source": [
    "data.info()"
   ]
  },
  {
   "cell_type": "code",
   "execution_count": 11,
   "id": "4d13d649",
   "metadata": {},
   "outputs": [],
   "source": [
    "data['Date of purchase'] = pd.to_datetime(data['Date of purchase'])"
   ]
  },
  {
   "cell_type": "code",
   "execution_count": 12,
   "id": "046eaae5",
   "metadata": {},
   "outputs": [],
   "source": [
    "data['CustomerID'] = data['CustomerID'].astype(int)"
   ]
  },
  {
   "cell_type": "code",
   "execution_count": 13,
   "id": "9c0f7b0a",
   "metadata": {},
   "outputs": [
    {
     "name": "stdout",
     "output_type": "stream",
     "text": [
      "<class 'pandas.core.frame.DataFrame'>\n",
      "Int64Index: 404189 entries, 0 to 537949\n",
      "Data columns (total 4 columns):\n",
      " #   Column            Non-Null Count   Dtype         \n",
      "---  ------            --------------   -----         \n",
      " 0   CustomerID        404189 non-null  int32         \n",
      " 1   Item Code         404189 non-null  object        \n",
      " 2   Date of purchase  404189 non-null  datetime64[ns]\n",
      " 3   Price             404189 non-null  float64       \n",
      "dtypes: datetime64[ns](1), float64(1), int32(1), object(1)\n",
      "memory usage: 13.9+ MB\n"
     ]
    }
   ],
   "source": [
    "data.info()"
   ]
  },
  {
   "cell_type": "code",
   "execution_count": 14,
   "id": "02fcf7f2",
   "metadata": {},
   "outputs": [],
   "source": [
    "#removing return entry\n",
    "data = data[(data['Price'] >0)]"
   ]
  },
  {
   "cell_type": "code",
   "execution_count": 15,
   "id": "8ec1b605",
   "metadata": {},
   "outputs": [
    {
     "data": {
      "text/plain": [
       "19"
      ]
     },
     "execution_count": 15,
     "metadata": {},
     "output_type": "execute_result"
    }
   ],
   "source": [
    "data.duplicated().sum()"
   ]
  },
  {
   "cell_type": "code",
   "execution_count": 16,
   "id": "a9e156e9",
   "metadata": {},
   "outputs": [],
   "source": [
    "data.drop_duplicates(inplace= True)"
   ]
  },
  {
   "cell_type": "code",
   "execution_count": 17,
   "id": "7958fccd",
   "metadata": {},
   "outputs": [
    {
     "name": "stdout",
     "output_type": "stream",
     "text": [
      "<class 'pandas.core.frame.DataFrame'>\n",
      "Int64Index: 395987 entries, 0 to 537949\n",
      "Data columns (total 4 columns):\n",
      " #   Column            Non-Null Count   Dtype         \n",
      "---  ------            --------------   -----         \n",
      " 0   CustomerID        395987 non-null  int32         \n",
      " 1   Item Code         395987 non-null  object        \n",
      " 2   Date of purchase  395987 non-null  datetime64[ns]\n",
      " 3   Price             395987 non-null  float64       \n",
      "dtypes: datetime64[ns](1), float64(1), int32(1), object(1)\n",
      "memory usage: 13.6+ MB\n"
     ]
    }
   ],
   "source": [
    "data.info()"
   ]
  },
  {
   "cell_type": "code",
   "execution_count": 18,
   "id": "a8e5df70",
   "metadata": {},
   "outputs": [
    {
     "name": "stdout",
     "output_type": "stream",
     "text": [
      "2017-12-20 00:00:00\n"
     ]
    }
   ],
   "source": [
    "import datetime\n",
    "max_date = data['Date of purchase'].max() + datetime.timedelta(days=1)\n",
    "print(max_date)\n",
    "rfm_data = data.groupby('CustomerID',group_keys = False).agg(Recency = ('Date of purchase', lambda x: (max_date - x.max()).days),\n",
    "                                                 Monetory = ('Price',np.sum),\n",
    "                                                 Frequency = ('Item Code', lambda x: x.nunique()))"
   ]
  },
  {
   "cell_type": "code",
   "execution_count": 19,
   "id": "4da00540",
   "metadata": {},
   "outputs": [
    {
     "data": {
      "text/html": [
       "<div>\n",
       "<style scoped>\n",
       "    .dataframe tbody tr th:only-of-type {\n",
       "        vertical-align: middle;\n",
       "    }\n",
       "\n",
       "    .dataframe tbody tr th {\n",
       "        vertical-align: top;\n",
       "    }\n",
       "\n",
       "    .dataframe thead th {\n",
       "        text-align: right;\n",
       "    }\n",
       "</style>\n",
       "<table border=\"1\" class=\"dataframe\">\n",
       "  <thead>\n",
       "    <tr style=\"text-align: right;\">\n",
       "      <th></th>\n",
       "      <th>Recency</th>\n",
       "      <th>Monetory</th>\n",
       "      <th>Frequency</th>\n",
       "    </tr>\n",
       "    <tr>\n",
       "      <th>CustomerID</th>\n",
       "      <th></th>\n",
       "      <th></th>\n",
       "      <th></th>\n",
       "    </tr>\n",
       "  </thead>\n",
       "  <tbody>\n",
       "    <tr>\n",
       "      <th>2</th>\n",
       "      <td>4</td>\n",
       "      <td>553704.0</td>\n",
       "      <td>103</td>\n",
       "    </tr>\n",
       "    <tr>\n",
       "      <th>3</th>\n",
       "      <td>77</td>\n",
       "      <td>257404.0</td>\n",
       "      <td>21</td>\n",
       "    </tr>\n",
       "    <tr>\n",
       "      <th>4</th>\n",
       "      <td>20</td>\n",
       "      <td>176613.0</td>\n",
       "      <td>72</td>\n",
       "    </tr>\n",
       "    <tr>\n",
       "      <th>5</th>\n",
       "      <td>18</td>\n",
       "      <td>41976.0</td>\n",
       "      <td>16</td>\n",
       "    </tr>\n",
       "    <tr>\n",
       "      <th>6</th>\n",
       "      <td>9</td>\n",
       "      <td>166972.0</td>\n",
       "      <td>57</td>\n",
       "    </tr>\n",
       "    <tr>\n",
       "      <th>...</th>\n",
       "      <td>...</td>\n",
       "      <td>...</td>\n",
       "      <td>...</td>\n",
       "    </tr>\n",
       "    <tr>\n",
       "      <th>4368</th>\n",
       "      <td>17</td>\n",
       "      <td>20480.0</td>\n",
       "      <td>10</td>\n",
       "    </tr>\n",
       "    <tr>\n",
       "      <th>4369</th>\n",
       "      <td>181</td>\n",
       "      <td>10774.0</td>\n",
       "      <td>7</td>\n",
       "    </tr>\n",
       "    <tr>\n",
       "      <th>4370</th>\n",
       "      <td>12</td>\n",
       "      <td>25177.0</td>\n",
       "      <td>12</td>\n",
       "    </tr>\n",
       "    <tr>\n",
       "      <th>4371</th>\n",
       "      <td>4</td>\n",
       "      <td>280608.0</td>\n",
       "      <td>262</td>\n",
       "    </tr>\n",
       "    <tr>\n",
       "      <th>4372</th>\n",
       "      <td>51</td>\n",
       "      <td>262820.0</td>\n",
       "      <td>59</td>\n",
       "    </tr>\n",
       "  </tbody>\n",
       "</table>\n",
       "<p>4324 rows × 3 columns</p>\n",
       "</div>"
      ],
      "text/plain": [
       "            Recency  Monetory  Frequency\n",
       "CustomerID                              \n",
       "2                 4  553704.0        103\n",
       "3                77  257404.0         21\n",
       "4                20  176613.0         72\n",
       "5                18   41976.0         16\n",
       "6                 9  166972.0         57\n",
       "...             ...       ...        ...\n",
       "4368             17   20480.0         10\n",
       "4369            181   10774.0          7\n",
       "4370             12   25177.0         12\n",
       "4371              4  280608.0        262\n",
       "4372             51  262820.0         59\n",
       "\n",
       "[4324 rows x 3 columns]"
      ]
     },
     "execution_count": 19,
     "metadata": {},
     "output_type": "execute_result"
    }
   ],
   "source": [
    "rfm_data"
   ]
  },
  {
   "cell_type": "code",
   "execution_count": 20,
   "id": "6ea6fd6f",
   "metadata": {},
   "outputs": [
    {
     "data": {
      "text/html": [
       "<div>\n",
       "<style scoped>\n",
       "    .dataframe tbody tr th:only-of-type {\n",
       "        vertical-align: middle;\n",
       "    }\n",
       "\n",
       "    .dataframe tbody tr th {\n",
       "        vertical-align: top;\n",
       "    }\n",
       "\n",
       "    .dataframe thead th {\n",
       "        text-align: right;\n",
       "    }\n",
       "</style>\n",
       "<table border=\"1\" class=\"dataframe\">\n",
       "  <thead>\n",
       "    <tr style=\"text-align: right;\">\n",
       "      <th></th>\n",
       "      <th>Recency</th>\n",
       "      <th>Monetory</th>\n",
       "      <th>Frequency</th>\n",
       "    </tr>\n",
       "  </thead>\n",
       "  <tbody>\n",
       "    <tr>\n",
       "      <th>count</th>\n",
       "      <td>4324.000000</td>\n",
       "      <td>4.324000e+03</td>\n",
       "      <td>4324.000000</td>\n",
       "    </tr>\n",
       "    <tr>\n",
       "      <th>mean</th>\n",
       "      <td>61.943571</td>\n",
       "      <td>2.339783e+05</td>\n",
       "      <td>61.536540</td>\n",
       "    </tr>\n",
       "    <tr>\n",
       "      <th>std</th>\n",
       "      <td>89.154543</td>\n",
       "      <td>8.636522e+05</td>\n",
       "      <td>85.315774</td>\n",
       "    </tr>\n",
       "    <tr>\n",
       "      <th>min</th>\n",
       "      <td>1.000000</td>\n",
       "      <td>3.880000e+02</td>\n",
       "      <td>1.000000</td>\n",
       "    </tr>\n",
       "    <tr>\n",
       "      <th>25%</th>\n",
       "      <td>10.000000</td>\n",
       "      <td>3.928800e+04</td>\n",
       "      <td>16.000000</td>\n",
       "    </tr>\n",
       "    <tr>\n",
       "      <th>50%</th>\n",
       "      <td>20.000000</td>\n",
       "      <td>8.614700e+04</td>\n",
       "      <td>35.000000</td>\n",
       "    </tr>\n",
       "    <tr>\n",
       "      <th>75%</th>\n",
       "      <td>75.000000</td>\n",
       "      <td>2.108338e+05</td>\n",
       "      <td>77.250000</td>\n",
       "    </tr>\n",
       "    <tr>\n",
       "      <th>max</th>\n",
       "      <td>617.000000</td>\n",
       "      <td>3.553619e+07</td>\n",
       "      <td>1786.000000</td>\n",
       "    </tr>\n",
       "  </tbody>\n",
       "</table>\n",
       "</div>"
      ],
      "text/plain": [
       "           Recency      Monetory    Frequency\n",
       "count  4324.000000  4.324000e+03  4324.000000\n",
       "mean     61.943571  2.339783e+05    61.536540\n",
       "std      89.154543  8.636522e+05    85.315774\n",
       "min       1.000000  3.880000e+02     1.000000\n",
       "25%      10.000000  3.928800e+04    16.000000\n",
       "50%      20.000000  8.614700e+04    35.000000\n",
       "75%      75.000000  2.108338e+05    77.250000\n",
       "max     617.000000  3.553619e+07  1786.000000"
      ]
     },
     "execution_count": 20,
     "metadata": {},
     "output_type": "execute_result"
    }
   ],
   "source": [
    "rfm_data.describe()"
   ]
  },
  {
   "cell_type": "markdown",
   "id": "6811ba66",
   "metadata": {},
   "source": [
    "## Using KMeans Clustering"
   ]
  },
  {
   "cell_type": "code",
   "execution_count": 21,
   "id": "739d01f8",
   "metadata": {},
   "outputs": [],
   "source": [
    "from sklearn.preprocessing import StandardScaler\n",
    "scaler = StandardScaler()\n",
    "X_scaled = scaler.fit_transform(rfm_data[['Recency','Monetory','Frequency']])"
   ]
  },
  {
   "cell_type": "code",
   "execution_count": 22,
   "id": "315172b7",
   "metadata": {},
   "outputs": [],
   "source": [
    "from sklearn.cluster import KMeans\n",
    "sse = []\n",
    "for i in range(1,10):\n",
    "    k_mean = KMeans(random_state= 42, n_clusters= i, init= 'k-means++', n_init= 10)\n",
    "    k_mean.fit(X_scaled)\n",
    "    sse.append(k_mean.inertia_)"
   ]
  },
  {
   "cell_type": "code",
   "execution_count": 23,
   "id": "d81e055e",
   "metadata": {},
   "outputs": [
    {
     "data": {
      "text/plain": [
       "Text(0, 0.5, 'CLusters')"
      ]
     },
     "execution_count": 23,
     "metadata": {},
     "output_type": "execute_result"
    },
    {
     "data": {
      "image/png": "[encoded data removed]",
      "text/plain": [
       "<Figure size 640x480 with 1 Axes>"
      ]
     },
     "metadata": {},
     "output_type": "display_data"
    }
   ],
   "source": [
    "sns.set_style('whitegrid')\n",
    "sns.lineplot(x = range(1,10), y= sse)\n",
    "plt.title(\"Cluster Efficiency\")\n",
    "plt.xlabel(\"Sum of squared error\")\n",
    "plt.ylabel(\"CLusters\")"
   ]
  },
  {
   "cell_type": "markdown",
   "id": "16f3c051",
   "metadata": {},
   "source": [
    "- Basis above graph we can consider 4 or 5 cluster. However in this case we are considering 4"
   ]
  },
  {
   "cell_type": "code",
   "execution_count": 24,
   "id": "6eb47e4b",
   "metadata": {},
   "outputs": [
    {
     "data": {
      "text/plain": [
       "array([3, 3, 3, ..., 3, 2, 3])"
      ]
     },
     "execution_count": 24,
     "metadata": {},
     "output_type": "execute_result"
    }
   ],
   "source": [
    "k_mean = KMeans(random_state=42, init='k-means++',n_clusters= 4)\n",
    "k_mean.fit(X_scaled)\n",
    "clusters = k_mean.predict(X_scaled)\n",
    "clusters"
   ]
  },
  {
   "cell_type": "code",
   "execution_count": 25,
   "id": "db91c14a",
   "metadata": {},
   "outputs": [
    {
     "data": {
      "text/plain": [
       "0.5702955863729307"
      ]
     },
     "execution_count": 25,
     "metadata": {},
     "output_type": "execute_result"
    }
   ],
   "source": [
    "from sklearn.metrics import silhouette_score, davies_bouldin_score\n",
    "silhoute = silhouette_score(X_scaled, clusters)\n",
    "silhoute"
   ]
  },
  {
   "cell_type": "code",
   "execution_count": 26,
   "id": "e063bcdc",
   "metadata": {},
   "outputs": [
    {
     "data": {
      "text/plain": [
       "0.7097224640693909"
      ]
     },
     "execution_count": 26,
     "metadata": {},
     "output_type": "execute_result"
    }
   ],
   "source": [
    "davies_score = davies_bouldin_score(X_scaled, clusters)\n",
    "davies_score"
   ]
  },
  {
   "cell_type": "code",
   "execution_count": 27,
   "id": "88c489c1",
   "metadata": {},
   "outputs": [],
   "source": [
    "rfm_data['score'] = clusters"
   ]
  },
  {
   "cell_type": "code",
   "execution_count": 28,
   "id": "be07884d",
   "metadata": {},
   "outputs": [
    {
     "data": {
      "text/html": [
       "<div>\n",
       "<style scoped>\n",
       "    .dataframe tbody tr th:only-of-type {\n",
       "        vertical-align: middle;\n",
       "    }\n",
       "\n",
       "    .dataframe tbody tr th {\n",
       "        vertical-align: top;\n",
       "    }\n",
       "\n",
       "    .dataframe thead th {\n",
       "        text-align: right;\n",
       "    }\n",
       "</style>\n",
       "<table border=\"1\" class=\"dataframe\">\n",
       "  <thead>\n",
       "    <tr style=\"text-align: right;\">\n",
       "      <th></th>\n",
       "      <th>Recency</th>\n",
       "      <th>Monetory</th>\n",
       "      <th>Frequency</th>\n",
       "      <th>score</th>\n",
       "    </tr>\n",
       "    <tr>\n",
       "      <th>CustomerID</th>\n",
       "      <th></th>\n",
       "      <th></th>\n",
       "      <th></th>\n",
       "      <th></th>\n",
       "    </tr>\n",
       "  </thead>\n",
       "  <tbody>\n",
       "    <tr>\n",
       "      <th>2</th>\n",
       "      <td>4</td>\n",
       "      <td>553704.0</td>\n",
       "      <td>103</td>\n",
       "      <td>3</td>\n",
       "    </tr>\n",
       "    <tr>\n",
       "      <th>3</th>\n",
       "      <td>77</td>\n",
       "      <td>257404.0</td>\n",
       "      <td>21</td>\n",
       "      <td>3</td>\n",
       "    </tr>\n",
       "    <tr>\n",
       "      <th>4</th>\n",
       "      <td>20</td>\n",
       "      <td>176613.0</td>\n",
       "      <td>72</td>\n",
       "      <td>3</td>\n",
       "    </tr>\n",
       "    <tr>\n",
       "      <th>5</th>\n",
       "      <td>18</td>\n",
       "      <td>41976.0</td>\n",
       "      <td>16</td>\n",
       "      <td>3</td>\n",
       "    </tr>\n",
       "    <tr>\n",
       "      <th>6</th>\n",
       "      <td>9</td>\n",
       "      <td>166972.0</td>\n",
       "      <td>57</td>\n",
       "      <td>3</td>\n",
       "    </tr>\n",
       "  </tbody>\n",
       "</table>\n",
       "</div>"
      ],
      "text/plain": [
       "            Recency  Monetory  Frequency  score\n",
       "CustomerID                                     \n",
       "2                 4  553704.0        103      3\n",
       "3                77  257404.0         21      3\n",
       "4                20  176613.0         72      3\n",
       "5                18   41976.0         16      3\n",
       "6                 9  166972.0         57      3"
      ]
     },
     "execution_count": 28,
     "metadata": {},
     "output_type": "execute_result"
    }
   ],
   "source": [
    "rfm_data.head()"
   ]
  },
  {
   "cell_type": "code",
   "execution_count": 29,
   "id": "e37a7a07",
   "metadata": {},
   "outputs": [
    {
     "data": {
      "text/html": [
       "<div>\n",
       "<style scoped>\n",
       "    .dataframe tbody tr th:only-of-type {\n",
       "        vertical-align: middle;\n",
       "    }\n",
       "\n",
       "    .dataframe tbody tr th {\n",
       "        vertical-align: top;\n",
       "    }\n",
       "\n",
       "    .dataframe thead th {\n",
       "        text-align: right;\n",
       "    }\n",
       "</style>\n",
       "<table border=\"1\" class=\"dataframe\">\n",
       "  <thead>\n",
       "    <tr style=\"text-align: right;\">\n",
       "      <th></th>\n",
       "      <th>Recency</th>\n",
       "      <th>Monetory</th>\n",
       "      <th>Frequency</th>\n",
       "      <th>score</th>\n",
       "    </tr>\n",
       "  </thead>\n",
       "  <tbody>\n",
       "    <tr>\n",
       "      <th>count</th>\n",
       "      <td>3105.000000</td>\n",
       "      <td>3.105000e+03</td>\n",
       "      <td>3105.000000</td>\n",
       "      <td>3105.0</td>\n",
       "    </tr>\n",
       "    <tr>\n",
       "      <th>mean</th>\n",
       "      <td>34.484380</td>\n",
       "      <td>1.314911e+05</td>\n",
       "      <td>40.449275</td>\n",
       "      <td>3.0</td>\n",
       "    </tr>\n",
       "    <tr>\n",
       "      <th>std</th>\n",
       "      <td>34.221052</td>\n",
       "      <td>1.621635e+05</td>\n",
       "      <td>30.006873</td>\n",
       "      <td>0.0</td>\n",
       "    </tr>\n",
       "    <tr>\n",
       "      <th>min</th>\n",
       "      <td>1.000000</td>\n",
       "      <td>7.340000e+02</td>\n",
       "      <td>1.000000</td>\n",
       "      <td>3.0</td>\n",
       "    </tr>\n",
       "    <tr>\n",
       "      <th>25%</th>\n",
       "      <td>10.000000</td>\n",
       "      <td>4.025800e+04</td>\n",
       "      <td>16.000000</td>\n",
       "      <td>3.0</td>\n",
       "    </tr>\n",
       "    <tr>\n",
       "      <th>50%</th>\n",
       "      <td>19.000000</td>\n",
       "      <td>7.919900e+04</td>\n",
       "      <td>32.000000</td>\n",
       "      <td>3.0</td>\n",
       "    </tr>\n",
       "    <tr>\n",
       "      <th>75%</th>\n",
       "      <td>50.000000</td>\n",
       "      <td>1.649280e+05</td>\n",
       "      <td>59.000000</td>\n",
       "      <td>3.0</td>\n",
       "    </tr>\n",
       "    <tr>\n",
       "      <th>max</th>\n",
       "      <td>151.000000</td>\n",
       "      <td>1.767931e+06</td>\n",
       "      <td>133.000000</td>\n",
       "      <td>3.0</td>\n",
       "    </tr>\n",
       "  </tbody>\n",
       "</table>\n",
       "</div>"
      ],
      "text/plain": [
       "           Recency      Monetory    Frequency   score\n",
       "count  3105.000000  3.105000e+03  3105.000000  3105.0\n",
       "mean     34.484380  1.314911e+05    40.449275     3.0\n",
       "std      34.221052  1.621635e+05    30.006873     0.0\n",
       "min       1.000000  7.340000e+02     1.000000     3.0\n",
       "25%      10.000000  4.025800e+04    16.000000     3.0\n",
       "50%      19.000000  7.919900e+04    32.000000     3.0\n",
       "75%      50.000000  1.649280e+05    59.000000     3.0\n",
       "max     151.000000  1.767931e+06   133.000000     3.0"
      ]
     },
     "execution_count": 29,
     "metadata": {},
     "output_type": "execute_result"
    }
   ],
   "source": [
    "rfm_data[rfm_data['score'] == 3].describe()"
   ]
  },
  {
   "cell_type": "code",
   "execution_count": 1,
   "id": "f9b81c0e",
   "metadata": {},
   "outputs": [],
   "source": [
    "def cluster_plot(data, score):\n",
    "    cols = data.columns\n",
    "    if len(cols) > 4:\n",
    "        cols = data.columns[:len(cols)-2]\n",
    "    else:\n",
    "        cols = data.columns[:-1]\n",
    "    plt.figure(figsize=(10,8), layout = 'tight')\n",
    "    for i in range(len(cols)):\n",
    "        plt.subplot(2,2,i+1)\n",
    "        if i<len(cols)-1:\n",
    "            sns.scatterplot(data=data, hue= score, x= cols[i], y= cols[i+1], palette='rainbow')\n",
    "\n",
    "        else:\n",
    "            sns.scatterplot(data=data, hue= score, x= cols[0], y= cols[2], palette='rainbow')\n",
    "    plt.show()"
   ]
  },
  {
   "cell_type": "code",
   "execution_count": 31,
   "id": "5f7212ac",
   "metadata": {},
   "outputs": [
    {
     "data": {
      "image/png": "[encoded data removed]",
      "text/plain": [
       "<Figure size 1000x800 with 3 Axes>"
      ]
     },
     "metadata": {},
     "output_type": "display_data"
    }
   ],
   "source": [
    "cluster_plot(rfm_data, score='score')"
   ]
  },
  {
   "cell_type": "markdown",
   "id": "999bd2d4",
   "metadata": {},
   "source": [
    "## Using Dendogram"
   ]
  },
  {
   "cell_type": "code",
   "execution_count": 32,
   "id": "b1e55e71",
   "metadata": {},
   "outputs": [
    {
     "ename": "NameError",
     "evalue": "name 'AgglomerativeClustering' is not defined",
     "output_type": "error",
     "traceback": [
      "\u001b[1;31m---------------------------------------------------------------------------\u001b[0m",
      "\u001b[1;31mNameError\u001b[0m                                 Traceback (most recent call last)",
      "Cell \u001b[1;32mIn[32], line 27\u001b[0m\n\u001b[0;32m     21\u001b[0m     dendrogram(linkage_matrix, \u001b[38;5;241m*\u001b[39m\u001b[38;5;241m*\u001b[39mkwargs)\n\u001b[0;32m     23\u001b[0m \u001b[38;5;66;03m# Load sample dataset\u001b[39;00m\n\u001b[0;32m     24\u001b[0m \n\u001b[0;32m     25\u001b[0m \n\u001b[0;32m     26\u001b[0m \u001b[38;5;66;03m# Fit the AgglomerativeClustering model with 4 clusters\u001b[39;00m\n\u001b[1;32m---> 27\u001b[0m model \u001b[38;5;241m=\u001b[39m \u001b[43mAgglomerativeClustering\u001b[49m(distance_threshold\u001b[38;5;241m=\u001b[39m\u001b[38;5;241m0\u001b[39m, n_clusters\u001b[38;5;241m=\u001b[39m\u001b[38;5;28;01mNone\u001b[39;00m)\n\u001b[0;32m     28\u001b[0m model\u001b[38;5;241m.\u001b[39mfit(X_scaled)\n\u001b[0;32m     30\u001b[0m \u001b[38;5;66;03m# Plot the dendrogram\u001b[39;00m\n",
      "\u001b[1;31mNameError\u001b[0m: name 'AgglomerativeClustering' is not defined"
     ]
    }
   ],
   "source": [
    "def plot_dendrogram(model, **kwargs):\n",
    "    \"\"\"\n",
    "    plot: Linkage Matrix and count of samples under each node\n",
    "    \"\"\"\n",
    "    counts = np.zeros(model.children_.shape[0])\n",
    "    n_samples = len(model.labels_)\n",
    "    for i, merge in enumerate(model.children_):\n",
    "        current_count = 0\n",
    "        for child_idx in merge:\n",
    "            if child_idx < n_samples:\n",
    "                current_count += 1  # leaf node\n",
    "            else:\n",
    "                current_count += counts[child_idx - n_samples]\n",
    "        counts[i] = current_count\n",
    "\n",
    "    linkage_matrix = np.column_stack(\n",
    "        [model.children_, model.distances_, counts]\n",
    "    ).astype(float)\n",
    "\n",
    "    # Plot the corresponding dendrogram\n",
    "    dendrogram(linkage_matrix, **kwargs)\n",
    "\n",
    "# Load sample dataset\n",
    "\n",
    "\n",
    "# Fit the AgglomerativeClustering model with 4 clusters\n",
    "model = AgglomerativeClustering(distance_threshold=0, n_clusters=None)\n",
    "model.fit(X_scaled)\n",
    "\n",
    "# Plot the dendrogram\n",
    "plt.figure(figsize=(10, 5))\n",
    "plt.title(\"Hierarchical Clustering Dendrogram\")\n",
    "plot_dendrogram(model, truncate_mode='level', p=3)\n",
    "plt.xlabel(\"Number of points in node (or index of point if no parenthesis).\")\n",
    "plt.show()"
   ]
  },
  {
   "cell_type": "code",
   "execution_count": null,
   "id": "23637155",
   "metadata": {},
   "outputs": [],
   "source": [
    "model1 = AgglomerativeClustering(n_clusters=4)\n",
    "cluster1 = model1.fit_predict(X_scaled)\n",
    "silhoute = silhouette_score(X_scaled, cluster1)\n",
    "silhoute "
   ]
  },
  {
   "cell_type": "code",
   "execution_count": null,
   "id": "4725cfe6",
   "metadata": {},
   "outputs": [],
   "source": [
    "davies_score = davies_bouldin_score(X_scaled, cluster1)\n",
    "davies_score"
   ]
  },
  {
   "cell_type": "code",
   "execution_count": null,
   "id": "313d0ba8",
   "metadata": {},
   "outputs": [],
   "source": [
    "rfm_data['dendo_score'] = cluster1"
   ]
  },
  {
   "cell_type": "code",
   "execution_count": null,
   "id": "9bd9a630",
   "metadata": {},
   "outputs": [],
   "source": [
    "rfm_data['dendo_score'].unique()"
   ]
  },
  {
   "cell_type": "code",
   "execution_count": null,
   "id": "238623dd",
   "metadata": {},
   "outputs": [],
   "source": [
    "cluster_plot(rfm_data, score='dendo_score')"
   ]
  },
  {
   "cell_type": "code",
   "execution_count": null,
   "id": "3bb5f171",
   "metadata": {},
   "outputs": [],
   "source": []
  },
  {
   "cell_type": "code",
   "execution_count": null,
   "id": "52edacab",
   "metadata": {},
   "outputs": [],
   "source": []
  }
 ],
 "metadata": {
  "kernelspec": {
   "display_name": "Python 3 (ipykernel)",
   "language": "python",
   "name": "python3"
  },
  "language_info": {
   "codemirror_mode": {
    "name": "ipython",
    "version": 3
   },
   "file_extension": ".py",
   "mimetype": "text/x-python",
   "name": "python",
   "nbconvert_exporter": "python",
   "pygments_lexer": "ipython3",
   "version": "3.11.5"
  }
 },
 "nbformat": 4,
 "nbformat_minor": 5
}
