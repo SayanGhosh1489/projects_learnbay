{
 "cells": [
  {
   "cell_type": "code",
   "execution_count": 1,
   "id": "60469b8b",
   "metadata": {},
   "outputs": [
    {
     "name": "stderr",
     "output_type": "stream",
     "text": [
      "[nltk_data] Downloading package punkt to\n",
      "[nltk_data]     C:\\Users\\sayan\\AppData\\Roaming\\nltk_data...\n",
      "[nltk_data]   Package punkt is already up-to-date!\n",
      "[nltk_data] Downloading package stopwords to\n",
      "[nltk_data]     C:\\Users\\sayan\\AppData\\Roaming\\nltk_data...\n",
      "[nltk_data]   Package stopwords is already up-to-date!\n",
      "[nltk_data] Downloading package wordnet to\n",
      "[nltk_data]     C:\\Users\\sayan\\AppData\\Roaming\\nltk_data...\n",
      "[nltk_data]   Package wordnet is already up-to-date!\n",
      "[nltk_data] Downloading package vader_lexicon to\n",
      "[nltk_data]     C:\\Users\\sayan\\AppData\\Roaming\\nltk_data...\n",
      "[nltk_data]   Package vader_lexicon is already up-to-date!\n"
     ]
    },
    {
     "data": {
      "text/plain": [
       "True"
      ]
     },
     "execution_count": 1,
     "metadata": {},
     "output_type": "execute_result"
    }
   ],
   "source": [
    "import os\n",
    "import re\n",
    "import numpy as np\n",
    "import pandas as pd\n",
    "import matplotlib.pyplot as plt\n",
    "import seaborn as sns\n",
    "import warnings\n",
    "warnings.filterwarnings('ignore')\n",
    "import plotly.express as px\n",
    "import plotly.graph_objects as go\n",
    "\n",
    "import nltk\n",
    "from nltk.stem import WordNetLemmatizer\n",
    "from nltk.corpus import stopwords\n",
    "from nltk.tokenize import word_tokenize, sent_tokenize\n",
    "from nltk.sentiment.vader import SentimentIntensityAnalyzer\n",
    "\n",
    "from wordcloud import WordCloud\n",
    "\n",
    "nltk.download('punkt')\n",
    "nltk.download('stopwords')\n",
    "nltk.download('wordnet')\n",
    "nltk.download('vader_lexicon')"
   ]
  },
  {
   "cell_type": "code",
   "execution_count": 2,
   "id": "ced5366d",
   "metadata": {},
   "outputs": [],
   "source": [
    "file_path = 'speech.txt'\n",
    "with open(file_path, 'r', encoding='utf-8') as f:\n",
    "    content = f.read()"
   ]
  },
  {
   "cell_type": "code",
   "execution_count": 23,
   "id": "bd07a18e",
   "metadata": {},
   "outputs": [],
   "source": [
    "def dataCleaning(text):\n",
    "    text = text.strip().lower()\n",
    "    clean_text = re.sub(r'[^\\w\\s]','',text)\n",
    "    word_token = word_tokenize(clean_text)\n",
    "    STOPWORDS = set(stopwords.words('english'))\n",
    "    stem = WordNetLemmatizer()\n",
    "    word_token = [stem.lemmatize(word) for word in word_token if word not in STOPWORDS] \n",
    "    return word_token"
   ]
  },
  {
   "cell_type": "code",
   "execution_count": 24,
   "id": "9c62536b",
   "metadata": {},
   "outputs": [],
   "source": [
    "clean_content = dataCleaning(content)"
   ]
  },
  {
   "cell_type": "code",
   "execution_count": 30,
   "id": "f4f26d68",
   "metadata": {},
   "outputs": [
    {
     "data": {
      "text/plain": [
       "0.014298377028714108"
      ]
     },
     "execution_count": 30,
     "metadata": {},
     "output_type": "execute_result"
    }
   ],
   "source": [
    "sa = SentimentIntensityAnalyzer()\n",
    "sentiment_score = [sa.polarity_scores(word)['compound'] for \n",
    "                  word in clean_content]\n",
    "avg_score = sum(sentiment_score)/len(sentiment_score)\n",
    "\n",
    "avg_score"
   ]
  },
  {
   "cell_type": "code",
   "execution_count": 40,
   "id": "0213caac",
   "metadata": {},
   "outputs": [],
   "source": [
    "pos_words = set([word for i, word in enumerate(clean_content) \n",
    "             if sentiment_score[i] > 0.1])\n",
    "neutral_words = set([word for i, word in enumerate(clean_content) \n",
    "             if sentiment_score[i] >=- 0.1 and sentiment_score[i] <=0.1])\n",
    "neg_words = set([word for i, word in enumerate(clean_content) \n",
    "             if sentiment_score[i] <- 0.1])"
   ]
  },
  {
   "cell_type": "code",
   "execution_count": 41,
   "id": "c19bb0a2",
   "metadata": {},
   "outputs": [
    {
     "name": "stdout",
     "output_type": "stream",
     "text": [
      "{'honest', 'celebrated', 'stronger', 'agree', 'confidence', 'like', 'dream', 'assurance', 'peace', 'honoured', 'trust', 'great', 'courage', 'interested', 'fascination', 'good', 'growing', 'credited', 'faith', 'huge', 'free', 'top', 'marvel', 'trusting', 'fulfill', 'hero', 'dwelled', 'winning', 'wish', 'better', 'important', 'devoted', 'opportunity', 'best', 'save', 'certain', 'devote', 'commitment', 'energy', 'blessing', 'vision', 'definite', 'inspires', 'increased', 'well', 'freebie', 'reached', 'responsible', 'helping', 'assured', 'rich', 'party', 'gratitude', 'freedom', 'assure', 'success', 'help', 'determination', 'emotional', 'award', 'attachment', 'fighter', 'ensure', 'dedicated', 'profit', 'strength', 'succeeded', 'strong', 'interest', 'lucky', 'growth', 'revered'}\n"
     ]
    }
   ],
   "source": [
    "print(pos_words)"
   ]
  },
  {
   "cell_type": "code",
   "execution_count": 42,
   "id": "2d609262",
   "metadata": {},
   "outputs": [
    {
     "name": "stdout",
     "output_type": "stream",
     "text": [
      "{'every', 'naval', '50000', 'convey', 'splintered', 'stream', 'india', 'per', 'r', 'transportation', 'eye', 'slogan', '2019', 'patriotism', '1962', 'kashmir', 'never', 'parliament', 'daughter', 'pointed', 'moving', 'represented', 'jal', 'rectified', 'burfukan', 'food', 'movement', 'project', 'realize', 'told', 'recently', 'led', 'made', 'body', 'development', 'founding', 'developed', 'minister', 'marker', 'utmost', 'approach', 'putting', 'omen', 'open', 'destination', 'case', 'objectionable', 'going', 'arose', 'utilized', 'understanding', 'mahatma', 'today', 'transmission', 'fisherman', 'nadu', 'house', 'northeast', '4', 'narrative', 'showing', 'burn', 'door', 'time', 'left', 'woman', 'bjp', 'bharati', 'constant', 'introduced', 'majority', 'call', 'garib', 'rail', 'past', '5', 'people', 'continue', 'youth', 'achieve', 'able', 'two', 'must', 'effort', 'participated', 'later', 'shine', 'system', 'startup', 'election', 'beck', 'common', 'standing', 'rajya', 'night', 'mentioned', 'current', 'alliance', 'becoming', 'asia', 'indicates', 'example', 'arunachal', 'referring', 'republic', '1966', 'priority', 'unity', 'discus', 'speak', 'forward', 'situation', 'paper', 'shelved', 'would', 'dynasty', 'come', 'manohar', 'given', 'heritage', 'airport', 'stay', 'madeinindia', 'coalition', 'realizing', 'nagaland', 'nda', 'highway', 'cited', 'chair', 'maa', 'root', 'central', 'nothing', 'ayurveda', 'lic', 'remarked', 'social', 'period', 'repeatedly', 'ago', 'fortune', 'viksit', 'end', 'partition', 'cause', 'peak', 'instead', '2014', '5th', 'whatever', 'institute', 'continuously', 'book', 'participation', 'nitpicking', 'several', 'victorious', 'father', 'whoever', 'singing', 'roadmap', 'manipur', 'record', 'key', 'photograph', 'incident', 'seat', 'identity', 'phone', 'imf', 'chandra', 'throwing', 'economics', 'responsibility', 'back', 'narendra', 'sky', 'logistical', 'dhan', 'quick', 'greenfield', 'government', 'put', 'lakh', 'passing', 'take', 'third', 'knowhow', 'rise', 'national', 'went', 'tried', 'lachit', 'state', 'unicef', 'focus', 'aircraft', 'looked', 'run', 'net', 'simple', 'partner', 'explanation', 'opened', 'crore', 'lie', 'infrastructure', 'called', 'culture', 'move', 'track', 'perform', 'many', 'almost', 'parliamentarian', 'lohias', 'railway', 'century', 'initiated', '400', 'sabha', 'planning', 'capability', 'bank', 'believe', 'fly', 'three', 'resource', 'ego', 'activity', 'beginning', 'noncongress', 'radio', 'modern', 'elected', 'reside', 'gaidinliu', 'iskcon', 'global', 'dbt', 'claim', 'ran', 'communication', 'linked', 'deserved', 'niti', 'touching', 'corona', 'surgical', 'indian', 'country', 'politics', 'named', 'moirang', 'fend', 'sank', 'constructed', 'spread', 'necessary', 'twofold', 'council', 'bankruptcy', 'temple', 'pradesh', 'taken', 'commenting', 'bend', 'ram', 'protection', 'next', 'recalled', 'urban', 'leader', 'informed', 'achieved', 'tamil', 'aiims', 'also', 'stalwart', 'needed', 'quoted', 'extremist', 'old', 'continuing', 'poll', 'flow', 'level', 'floor', 'recovery', 'use', 'discussion', 'gandhi', 'provided', 'day', 'campaign', 'chose', 'one', 'towards', 'highlighted', 'foundation', 'brought', 'bombing', 'laxity', 'dedication', 'allegation', 'addressing', 'single', 'belief', 'patience', 'since', 'crumble', 'ahead', 'militant', 'new', 'chinese', 'airforce', 'eradicated', 'scheme', 'slum', 'highestever', 'statue', 'session', 'resolution', 'mataram', 'done', 'evening', 'agartala', 'added', 'institution', 'type', 'emphasized', 'infiltration', 'hal', 'regarding', 'association', '2024', 'sector', 'simultaneously', 'lead', 'subhas', 'however', '135', 'library', 'immense', 'said', 'light', 'express', 'coming', 'foreign', 'air', 'make', 'rule', 'public', 'innumerable', 'dealing', 'interjected', '1991', 'bose', 'article', 'leave', 'together', 'abhiyan', 'aspiration', 'u', 'traveled', 'vande', 'economy', 'berated', 'therefore', 'populace', 'tremendous', 'thousand', 'welfare', 'unturned', 'prime', 'concern', 'bharat', 'presented', 'similarly', 'changing', 'misuse', 'ghamndia', 'organization', 'cant', 'sikkim', 'thirdlargest', 'see', 'region', 'reform', 'digital', 'seriousness', '50', 'agency', 'explained', 'tribals', 'quoting', 'shri', 'shackle', 'across', 'way', 'center', 'political', 'building', 'divisive', 'export', 'talk', 'moment', 'neighboring', 'got', 'work', 'height', 'kala', 'asean', 'place', 'world', 'noconfidence', 'much', 'train', 'largest', 'ostrich', 'invariably', 'registered', 'fact', 'knew', 'boon', 'impact', 'family', 'hurriyat', 'defame', 'latch', 'though', 'discussing', 'shutting', 'urged', '2047', 'revived', 'saying', 'garb', 'term', 'home', 'filled', 'particle', 'continued', 'verge', 'southeast', 'cosmetic', 'data', '2018', 'opposition', 'even', 'lok', 'university', 'citizen', 'paid', 'motion', 'modi', 'account', 'invasion', 'fauj', 'travel', 'expectation', 'report', 'platform', 'foreignmade', 'life', 'year', 'sangrahalaya', 'tire', 'mizoram', 'arisen', 'proven', 'extreme', 'highest', 'replied', '2028', 'name', 'sitting', 'imphal', 'spoken', 'ward', 'comment', 'fulfilling', 'revenue', 'visited', 'declared', 'bill', 'jan', 'vaccine', 'soaring', 'change', 'speaking', '21st', 'heart', 'goal', 'empathize', 'detail', 'twice', 'land', 'beta', 'nation', 'pradhanmantri', 'break', 'mother', 'padma', '26', 'sabka', 'nehru', 'district', 'test', 'connectivity', 'expressed', 'rani', 'tika', 'get', 'repaired', 'policy', 'sacrifice', 'spun', 'jeevan', 'imperative', 'banking', 'preference', 'tendency', 'underlined', 'ka', 'pakistan', 'various', 'portrait', 'steeped', 'basis', 'opposed', 'passed', 'hind', 'without', 'money', 'talked', 'making', 'operated', 'touched', 'become', 'mission', 'kachchatheevu', 'mass', 'always', 'reiterated', 'bring', 'second', 'school', 'service', 'watching', 'march', 'language', 'saath', 'stand', 'target', 'congress', 'netaji', 'upon', 'vishwas', 'museum', 'due', 'azad', 'laying', 'legislation', 'shaped', '3', 'try', 'office', 'discussed', 'officer', 'mantra', 'intention', 'issue', 'kashmiri', 'established', 'attitude', 'connected', 'used', 'survive', 'headquarters', 'transform', 'parameter', 'working', 'suggestion', 'countryman', '30', 'member', 'bringing', 'stone', 'swachh', 'pm', '9', 'sport', 'gave', 'find', 'full', 'appealed', 'attempt', 'ecosystem', 'yoga', 'among', 'adding', 'npa', 'least', 'touted', 'path', 'secret', 'found', 'pushed', 'investment', 'first', 'last', 'swacch', 'anthem', 'vessel', 'aware'}\n"
     ]
    }
   ],
   "source": [
    "print(neutral_words)"
   ]
  },
  {
   "cell_type": "code",
   "execution_count": 43,
   "id": "2138f86d",
   "metadata": {},
   "outputs": [
    {
     "name": "stdout",
     "output_type": "stream",
     "text": [
      "{'insecurity', 'severely', 'crisis', 'warned', 'scam', 'criticism', 'ill', 'lack', 'loss', 'pressure', 'unsuccessful', 'hard', 'misinformation', 'damage', 'violence', 'disappointed', 'forbidden', 'protest', 'neglect', 'misinformed', 'distrusting', 'strike', 'questioned', 'worse', 'petty', 'suffered', 'suffering', 'low', 'unacceptable', 'victim', 'distrust', 'poverty', 'arrogant', 'guilty', 'deprived', 'confuse', 'failure', 'havoc', 'crime', 'reckless', 'punished', 'perturbed', 'stuck', 'lamented', 'poor', 'attack', 'bad', 'criticizing', 'enemy', 'fool', 'saddening', 'conflict', 'stressed', 'pain', 'stop', 'attacked', 'contradiction', 'arrogance', 'betrayal'}\n"
     ]
    }
   ],
   "source": [
    "print(neg_words)"
   ]
  },
  {
   "cell_type": "code",
   "execution_count": null,
   "id": "2f6cff36",
   "metadata": {},
   "outputs": [],
   "source": []
  }
 ],
 "metadata": {
  "kernelspec": {
   "display_name": "Python 3 (ipykernel)",
   "language": "python",
   "name": "python3"
  },
  "language_info": {
   "codemirror_mode": {
    "name": "ipython",
    "version": 3
   },
   "file_extension": ".py",
   "mimetype": "text/x-python",
   "name": "python",
   "nbconvert_exporter": "python",
   "pygments_lexer": "ipython3",
   "version": "3.11.5"
  }
 },
 "nbformat": 4,
 "nbformat_minor": 5
}
